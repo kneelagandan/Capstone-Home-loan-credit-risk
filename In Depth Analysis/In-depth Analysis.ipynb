{
 "cells": [
  {
   "cell_type": "markdown",
   "metadata": {},
   "source": [
    "### In Depth Analysis - Modeling & Hyper parameter tuning"
   ]
  },
  {
   "cell_type": "code",
   "execution_count": 1,
   "metadata": {},
   "outputs": [
    {
     "name": "stdout",
     "output_type": "stream",
     "text": [
      "WARNING:tensorflow:From C:\\Users\\kneelagandan\\Anaconda3\\lib\\site-packages\\tensorflow\\python\\compat\\v2_compat.py:96: disable_resource_variables (from tensorflow.python.ops.variable_scope) is deprecated and will be removed in a future version.\n",
      "Instructions for updating:\n",
      "non-resource variables are not supported in the long term\n"
     ]
    }
   ],
   "source": [
    "%matplotlib inline\n",
    "import pandas as pd\n",
    "import matplotlib.pyplot as plt\n",
    "import numpy as np\n",
    "import seaborn as sns\n",
    "sns.set()\n",
    "\n",
    "from sklearn.linear_model import LogisticRegression\n",
    "from sklearn.ensemble import RandomForestClassifier\n",
    "from sklearn.naive_bayes import GaussianNB\n",
    "from xgboost import XGBClassifier\n",
    "\n",
    "from scipy import stats\n",
    "\n",
    "from sklearn.preprocessing import MinMaxScaler\n",
    "from sklearn.impute import SimpleImputer\n",
    "\n",
    "from keras.layers import Input, Dense\n",
    "from keras.models import Model, Sequential\n",
    "from keras import regularizers\n",
    "from keras import optimizers\n",
    "import tensorflow as tf\n",
    "from keras import backend as K\n",
    "import tensorflow.compat.v1 as tf\n",
    "tf.disable_v2_behavior()\n",
    "\n",
    "from sklearn.model_selection import train_test_split, cross_val_score\n",
    "from sklearn.model_selection import GridSearchCV\n",
    "from sklearn.model_selection import KFold\n",
    "from sklearn.model_selection import StratifiedKFold\n",
    "from sklearn.model_selection import RandomizedSearchCV, GridSearchCV\n",
    "from skopt import BayesSearchCV\n",
    "\n",
    "from sklearn.metrics import accuracy_score,classification_report, roc_auc_score"
   ]
  },
  {
   "cell_type": "code",
   "execution_count": 2,
   "metadata": {},
   "outputs": [],
   "source": [
    "##all features\n",
    "application_train = pd.read_csv('new_application_train_merged.csv', index_col=None, engine='python')\n",
    "application_test = pd.read_csv('new_application_test_merged.csv', index_col=None, engine='python')\n"
   ]
  },
  {
   "cell_type": "code",
   "execution_count": 3,
   "metadata": {},
   "outputs": [],
   "source": [
    "#top 20 features\n",
    "new_application_train = pd.read_csv('application_train_for_ML.csv', index_col=None, engine='python')\n",
    "new_application_test = pd.read_csv('application_test_for_ML.csv', index_col=None, engine='python')"
   ]
  },
  {
   "cell_type": "markdown",
   "metadata": {},
   "source": [
    "## Feature Imputing & Feature Scaling \n"
   ]
  },
  {
   "cell_type": "code",
   "execution_count": 4,
   "metadata": {},
   "outputs": [
    {
     "data": {
      "text/plain": [
       "(43845, 21)"
      ]
     },
     "execution_count": 4,
     "metadata": {},
     "output_type": "execute_result"
    }
   ],
   "source": [
    "new_application_train.shape"
   ]
  },
  {
   "cell_type": "code",
   "execution_count": 5,
   "metadata": {},
   "outputs": [],
   "source": [
    "imputer = SimpleImputer(strategy=\"median\")\n",
    "scaler = MinMaxScaler(feature_range = (0, 1))"
   ]
  },
  {
   "cell_type": "code",
   "execution_count": 6,
   "metadata": {},
   "outputs": [
    {
     "data": {
      "text/plain": [
       "SimpleImputer(strategy='median')"
      ]
     },
     "execution_count": 6,
     "metadata": {},
     "output_type": "execute_result"
    }
   ],
   "source": [
    "imputer.fit(new_application_train.drop(['TARGET'], axis=1))\n"
   ]
  },
  {
   "cell_type": "code",
   "execution_count": 7,
   "metadata": {},
   "outputs": [],
   "source": [
    "train_transformed = imputer.transform(new_application_train.drop(['TARGET'], axis=1))\n",
    "train_transformed = scaler.fit_transform(train_transformed)\n"
   ]
  },
  {
   "cell_type": "code",
   "execution_count": 8,
   "metadata": {},
   "outputs": [],
   "source": [
    "test_transformed = imputer.transform(new_application_test)\n",
    "test_transformed = scaler.fit_transform(test_transformed)\n"
   ]
  },
  {
   "cell_type": "code",
   "execution_count": 9,
   "metadata": {},
   "outputs": [],
   "source": [
    "X_training_set, X_validation_set, y_training_set, y_validation_set = train_test_split(train_transformed, \n",
    "                                                                                      new_application_train['TARGET'], test_size=0.33, random_state=42)"
   ]
  },
  {
   "cell_type": "code",
   "execution_count": 10,
   "metadata": {},
   "outputs": [],
   "source": [
    "def metric_calc(pred):\n",
    "    print(\"The accuracy score : \", accuracy_score(y_validation_set,pred))\n",
    "    print(\"The classification report is as follows:\\n\", classification_report(y_validation_set,pred))\n",
    "    print(\"Taregt Values:\")\n",
    "    print(pd.DataFrame({'target':pred})['target'].value_counts())\n",
    "    print(\"ROC AUC score is: \",roc_auc_score(y_validation_set,pred))"
   ]
  },
  {
   "cell_type": "markdown",
   "metadata": {},
   "source": [
    "## 1. Logistic Regression"
   ]
  },
  {
   "cell_type": "code",
   "execution_count": 11,
   "metadata": {},
   "outputs": [
    {
     "name": "stdout",
     "output_type": "stream",
     "text": [
      "The accuracy score :  0.6712972562029166\n",
      "The classification report is as follows:\n",
      "               precision    recall  f1-score   support\n",
      "\n",
      "           0       0.65      0.61      0.63      6578\n",
      "           1       0.69      0.73      0.71      7891\n",
      "\n",
      "    accuracy                           0.67     14469\n",
      "   macro avg       0.67      0.67      0.67     14469\n",
      "weighted avg       0.67      0.67      0.67     14469\n",
      "\n",
      "Taregt Values:\n",
      "1    8327\n",
      "0    6142\n",
      "Name: target, dtype: int64\n",
      "ROC AUC score is:  0.6658108026204868\n"
     ]
    }
   ],
   "source": [
    "logistic_regressor = LogisticRegression(C = 2)\n",
    "logistic_regressor.fit(X_training_set,y_training_set)\n",
    "log_regression_pred = logistic_regressor.predict(X_validation_set)\n",
    "pd.DataFrame({'target':log_regression_pred})['target'].value_counts()\n",
    "metric_calc(log_regression_pred)"
   ]
  },
  {
   "cell_type": "markdown",
   "metadata": {},
   "source": [
    "## 2. Random Forest "
   ]
  },
  {
   "cell_type": "code",
   "execution_count": 12,
   "metadata": {},
   "outputs": [],
   "source": [
    "\n",
    "random_forest = RandomForestClassifier(n_estimators = 500, random_state = 50, verbose = 1)"
   ]
  },
  {
   "cell_type": "code",
   "execution_count": 13,
   "metadata": {},
   "outputs": [
    {
     "name": "stderr",
     "output_type": "stream",
     "text": [
      "[Parallel(n_jobs=1)]: Using backend SequentialBackend with 1 concurrent workers.\n",
      "[Parallel(n_jobs=1)]: Done 500 out of 500 | elapsed:   33.7s finished\n"
     ]
    },
    {
     "data": {
      "text/plain": [
       "RandomForestClassifier(n_estimators=500, random_state=50, verbose=1)"
      ]
     },
     "execution_count": 13,
     "metadata": {},
     "output_type": "execute_result"
    }
   ],
   "source": [
    "random_forest.fit(X_training_set,y_training_set)\n"
   ]
  },
  {
   "cell_type": "code",
   "execution_count": 14,
   "metadata": {},
   "outputs": [
    {
     "name": "stderr",
     "output_type": "stream",
     "text": [
      "[Parallel(n_jobs=1)]: Using backend SequentialBackend with 1 concurrent workers.\n"
     ]
    },
    {
     "name": "stdout",
     "output_type": "stream",
     "text": [
      "The accuracy score :  0.6746838067592784\n",
      "The classification report is as follows:\n",
      "               precision    recall  f1-score   support\n",
      "\n",
      "           0       0.65      0.61      0.63      6578\n",
      "           1       0.69      0.73      0.71      7891\n",
      "\n",
      "    accuracy                           0.67     14469\n",
      "   macro avg       0.67      0.67      0.67     14469\n",
      "weighted avg       0.67      0.67      0.67     14469\n",
      "\n",
      "Taregt Values:\n",
      "1    8326\n",
      "0    6143\n",
      "Name: target, dtype: int64\n",
      "ROC AUC score is:  0.6692317960672662\n"
     ]
    },
    {
     "name": "stderr",
     "output_type": "stream",
     "text": [
      "[Parallel(n_jobs=1)]: Done 500 out of 500 | elapsed:    3.2s finished\n"
     ]
    }
   ],
   "source": [
    "random_forest_pred = random_forest.predict(X_validation_set)\n",
    "metric_calc(random_forest_pred)"
   ]
  },
  {
   "cell_type": "code",
   "execution_count": 15,
   "metadata": {},
   "outputs": [
    {
     "name": "stderr",
     "output_type": "stream",
     "text": [
      "[Parallel(n_jobs=1)]: Using backend SequentialBackend with 1 concurrent workers.\n",
      "[Parallel(n_jobs=1)]: Done 500 out of 500 | elapsed:    7.8s finished\n",
      "<ipython-input-15-86f9992d35cb>:3: SettingWithCopyWarning: \n",
      "A value is trying to be set on a copy of a slice from a DataFrame.\n",
      "Try using .loc[row_indexer,col_indexer] = value instead\n",
      "\n",
      "See the caveats in the documentation: https://pandas.pydata.org/pandas-docs/stable/user_guide/indexing.html#returning-a-view-versus-a-copy\n",
      "  submission_random_forest['TARGET'] = random_forest_pred_test[:,1]\n"
     ]
    }
   ],
   "source": [
    "random_forest_pred_test = random_forest.predict_proba(test_transformed)\n",
    "submission_random_forest = application_test[['SK_ID_CURR']]\n",
    "submission_random_forest['TARGET'] = random_forest_pred_test[:,1]"
   ]
  },
  {
   "cell_type": "markdown",
   "metadata": {},
   "source": [
    "## 2.1 Feature importance of random forest classifier\n"
   ]
  },
  {
   "cell_type": "code",
   "execution_count": 16,
   "metadata": {},
   "outputs": [
    {
     "data": {
      "text/html": [
       "<div>\n",
       "<style scoped>\n",
       "    .dataframe tbody tr th:only-of-type {\n",
       "        vertical-align: middle;\n",
       "    }\n",
       "\n",
       "    .dataframe tbody tr th {\n",
       "        vertical-align: top;\n",
       "    }\n",
       "\n",
       "    .dataframe thead th {\n",
       "        text-align: right;\n",
       "    }\n",
       "</style>\n",
       "<table border=\"1\" class=\"dataframe\">\n",
       "  <thead>\n",
       "    <tr style=\"text-align: right;\">\n",
       "      <th></th>\n",
       "      <th>Feature</th>\n",
       "      <th>Importance</th>\n",
       "    </tr>\n",
       "  </thead>\n",
       "  <tbody>\n",
       "    <tr>\n",
       "      <th>0</th>\n",
       "      <td>EXT_SOURCE_2</td>\n",
       "      <td>0.176427</td>\n",
       "    </tr>\n",
       "    <tr>\n",
       "      <th>1</th>\n",
       "      <td>REGION_RATING_CLIENT</td>\n",
       "      <td>0.162095</td>\n",
       "    </tr>\n",
       "    <tr>\n",
       "      <th>2</th>\n",
       "      <td>FLAG_MOBIL</td>\n",
       "      <td>0.123399</td>\n",
       "    </tr>\n",
       "    <tr>\n",
       "      <th>3</th>\n",
       "      <td>AMT_CREDIT_x</td>\n",
       "      <td>0.119232</td>\n",
       "    </tr>\n",
       "    <tr>\n",
       "      <th>4</th>\n",
       "      <td>NAME_FAMILY_STATUS</td>\n",
       "      <td>0.084473</td>\n",
       "    </tr>\n",
       "  </tbody>\n",
       "</table>\n",
       "</div>"
      ],
      "text/plain": [
       "                Feature  Importance\n",
       "0          EXT_SOURCE_2    0.176427\n",
       "1  REGION_RATING_CLIENT    0.162095\n",
       "2            FLAG_MOBIL    0.123399\n",
       "3          AMT_CREDIT_x    0.119232\n",
       "4    NAME_FAMILY_STATUS    0.084473"
      ]
     },
     "execution_count": 16,
     "metadata": {},
     "output_type": "execute_result"
    }
   ],
   "source": [
    "features = list(set(new_application_train.columns).difference({'TARGET'}))\n",
    "\n",
    "feature_importance_df = pd.DataFrame({'Feature':features,'Importance':random_forest.feature_importances_})\n",
    "df = feature_importance_df.sort_values(['Importance'],ascending=False).reset_index()\n",
    "df = df.drop(['index'],axis=1)\n",
    "df.head()"
   ]
  },
  {
   "cell_type": "markdown",
   "metadata": {},
   "source": [
    "## 3. Naive Bayes Classifier\n"
   ]
  },
  {
   "cell_type": "code",
   "execution_count": 17,
   "metadata": {},
   "outputs": [
    {
     "name": "stdout",
     "output_type": "stream",
     "text": [
      "The accuracy score :  0.6523602183979542\n",
      "The classification report is as follows:\n",
      "               precision    recall  f1-score   support\n",
      "\n",
      "           0       0.62      0.62      0.62      6578\n",
      "           1       0.68      0.68      0.68      7891\n",
      "\n",
      "    accuracy                           0.65     14469\n",
      "   macro avg       0.65      0.65      0.65     14469\n",
      "weighted avg       0.65      0.65      0.65     14469\n",
      "\n",
      "Taregt Values:\n",
      "1    7803\n",
      "0    6666\n",
      "Name: target, dtype: int64\n",
      "ROC AUC score is:  0.6500302040198895\n"
     ]
    }
   ],
   "source": [
    "bayes_class = GaussianNB()\n",
    "bayes_class.fit(X_training_set,y_training_set)\n",
    "bayes_preds = bayes_class.predict(X_validation_set)\n",
    "metric_calc(bayes_preds)"
   ]
  },
  {
   "cell_type": "code",
   "execution_count": 18,
   "metadata": {},
   "outputs": [
    {
     "name": "stderr",
     "output_type": "stream",
     "text": [
      "<ipython-input-18-3115073d959d>:3: SettingWithCopyWarning: \n",
      "A value is trying to be set on a copy of a slice from a DataFrame.\n",
      "Try using .loc[row_indexer,col_indexer] = value instead\n",
      "\n",
      "See the caveats in the documentation: https://pandas.pydata.org/pandas-docs/stable/user_guide/indexing.html#returning-a-view-versus-a-copy\n",
      "  submission_nb['TARGET'] = nb_pred_test[:,1]\n"
     ]
    }
   ],
   "source": [
    "nb_pred_test = bayes_class.predict_proba(test_transformed)\n",
    "submission_nb = application_test[['SK_ID_CURR']]\n",
    "submission_nb['TARGET'] = nb_pred_test[:,1]\n"
   ]
  },
  {
   "cell_type": "markdown",
   "metadata": {},
   "source": [
    "## 4 .XG Boost"
   ]
  },
  {
   "cell_type": "code",
   "execution_count": 19,
   "metadata": {},
   "outputs": [
    {
     "name": "stdout",
     "output_type": "stream",
     "text": [
      "The accuracy score :  0.6703987836063308\n",
      "The classification report is as follows:\n",
      "               precision    recall  f1-score   support\n",
      "\n",
      "           0       0.65      0.60      0.62      6578\n",
      "           1       0.69      0.73      0.71      7891\n",
      "\n",
      "    accuracy                           0.67     14469\n",
      "   macro avg       0.67      0.66      0.67     14469\n",
      "weighted avg       0.67      0.67      0.67     14469\n",
      "\n",
      "Taregt Values:\n",
      "1    8370\n",
      "0    6099\n",
      "Name: target, dtype: int64\n",
      "ROC AUC score is:  0.6646329460239638\n"
     ]
    }
   ],
   "source": [
    "xgb_classifier = XGBClassifier(objective ='binary:logistic')\n",
    "xgb_classifier.fit(X_training_set,y_training_set)\n",
    "xgb_pred = xgb_classifier.predict(X_validation_set)\n",
    "metric_calc(xgb_pred)"
   ]
  },
  {
   "cell_type": "code",
   "execution_count": 20,
   "metadata": {},
   "outputs": [
    {
     "name": "stderr",
     "output_type": "stream",
     "text": [
      "<ipython-input-20-65d003118767>:3: SettingWithCopyWarning: \n",
      "A value is trying to be set on a copy of a slice from a DataFrame.\n",
      "Try using .loc[row_indexer,col_indexer] = value instead\n",
      "\n",
      "See the caveats in the documentation: https://pandas.pydata.org/pandas-docs/stable/user_guide/indexing.html#returning-a-view-versus-a-copy\n",
      "  submission_xgb['TARGET'] = xgb_pred_test[:,1]\n"
     ]
    }
   ],
   "source": [
    "xgb_pred_test = xgb_classifier.predict_proba(test_transformed)\n",
    "submission_xgb = application_test[['SK_ID_CURR']]\n",
    "submission_xgb['TARGET'] = xgb_pred_test[:,1]\n"
   ]
  },
  {
   "cell_type": "markdown",
   "metadata": {},
   "source": [
    "## 5 . Ensemble Modeling \n",
    "https://quantdare.com/what-is-the-difference-between-bagging-and-boosting/"
   ]
  },
  {
   "cell_type": "code",
   "execution_count": 21,
   "metadata": {},
   "outputs": [],
   "source": [
    "#Voting Approach\n",
    "def stacked_model(X_training_set):\n",
    "    \"\"\"\n",
    "    This method performs the stacked ensambling of all the models - Random forest, \n",
    "    Naive Bayes,Logistic Regression.\n",
    "    \"\"\"  \n",
    "    stacked_predictions = np.array([])\n",
    "\n",
    "    for element in X_training_set:\n",
    "         stacked_predictions = np.append(stacked_predictions,stats.mode(element)[0][0])\n",
    "\n",
    "    return stacked_predictions"
   ]
  },
  {
   "cell_type": "markdown",
   "metadata": {},
   "source": [
    "Combine all the test results into a multidimensional array to feed into the stacked model"
   ]
  },
  {
   "cell_type": "code",
   "execution_count": 22,
   "metadata": {},
   "outputs": [
    {
     "name": "stdout",
     "output_type": "stream",
     "text": [
      "The accuracy score :  0.6767572050590919\n",
      "The classification report is as follows:\n",
      "               precision    recall  f1-score   support\n",
      "\n",
      "           0       0.64      0.66      0.65      6578\n",
      "           1       0.71      0.69      0.70      7891\n",
      "\n",
      "    accuracy                           0.68     14469\n",
      "   macro avg       0.67      0.68      0.68     14469\n",
      "weighted avg       0.68      0.68      0.68     14469\n",
      "\n",
      "Taregt Values:\n",
      "1.0    7634\n",
      "0.0    6835\n",
      "Name: target, dtype: int64\n",
      "ROC AUC score is:  0.6756984867435408\n"
     ]
    }
   ],
   "source": [
    "combined_array = (pd.DataFrame({'LR':log_regression_pred,\n",
    "                                'RF':random_forest_pred,\n",
    "                                'Bayes':bayes_preds,\n",
    "                                'XGB':xgb_pred}).values)\n",
    "stacked_model_pred = stacked_model(combined_array)\n",
    "metric_calc(stacked_model_pred)"
   ]
  },
  {
   "cell_type": "markdown",
   "metadata": {},
   "source": [
    "## Observation : Ensemble provides slight better result though not signifacnt improvement "
   ]
  },
  {
   "cell_type": "markdown",
   "metadata": {},
   "source": [
    "## 6. Neural Network "
   ]
  },
  {
   "cell_type": "code",
   "execution_count": 23,
   "metadata": {},
   "outputs": [
    {
     "name": "stdout",
     "output_type": "stream",
     "text": [
      "Model: \"sequential\"\n",
      "_________________________________________________________________\n",
      "Layer (type)                 Output Shape              Param #   \n",
      "=================================================================\n",
      "dense (Dense)                (None, 100)               2100      \n",
      "_________________________________________________________________\n",
      "dense_1 (Dense)              (None, 50)                5050      \n",
      "_________________________________________________________________\n",
      "dense_2 (Dense)              (None, 1)                 51        \n",
      "=================================================================\n",
      "Total params: 7,201\n",
      "Trainable params: 7,201\n",
      "Non-trainable params: 0\n",
      "_________________________________________________________________\n"
     ]
    }
   ],
   "source": [
    "model = Sequential()\n",
    "new_application_test.shape[1]\n",
    "model.add(Dense(100, input_dim=new_application_train.drop(['TARGET'], axis=1).shape[1], activation= \"relu\"))\n",
    "model.add(Dense(50, activation= \"relu\"))\n",
    "model.add(Dense(1,activation= \"sigmoid\"))\n",
    "model.summary() #Print model Summary\n"
   ]
  },
  {
   "cell_type": "code",
   "execution_count": 24,
   "metadata": {},
   "outputs": [],
   "source": [
    "def auroc(y_true, y_pred):\n",
    "    return tf.py_func(roc_auc_score, (y_true, y_pred), tf.double)"
   ]
  },
  {
   "cell_type": "code",
   "execution_count": 25,
   "metadata": {},
   "outputs": [
    {
     "name": "stdout",
     "output_type": "stream",
     "text": [
      "WARNING:tensorflow:From <ipython-input-24-0345cd89dcf8>:2: py_func (from tensorflow.python.ops.script_ops) is deprecated and will be removed in a future version.\n",
      "Instructions for updating:\n",
      "tf.py_func is deprecated in TF V2. Instead, there are two\n",
      "    options available in V2.\n",
      "    - tf.py_function takes a python function which manipulates tf eager\n",
      "    tensors instead of numpy arrays. It's easy to convert a tf eager tensor to\n",
      "    an ndarray (just call tensor.numpy()) but having access to eager tensors\n",
      "    means `tf.py_function`s can use accelerators such as GPUs as well as\n",
      "    being differentiable using a gradient tape.\n",
      "    - tf.numpy_function maintains the semantics of the deprecated tf.py_func\n",
      "    (it is not differentiable, and manipulates numpy arrays). It drops the\n",
      "    stateful argument making all functions stateful.\n",
      "    \n",
      "Train on 29376 samples\n",
      "Epoch 1/250\n",
      "29376/29376 [==============================] - 2s 75us/sample - loss: 0.6267 - acc: 0.6471 - auroc: 0.7058\n",
      "Epoch 2/250\n",
      "29376/29376 [==============================] - 3s 96us/sample - loss: 0.6143 - acc: 0.6630 - auroc: 0.7215\n",
      "Epoch 3/250\n",
      "29376/29376 [==============================] - 2s 84us/sample - loss: 0.6130 - acc: 0.6651 - auroc: 0.7232\n",
      "Epoch 4/250\n",
      "29376/29376 [==============================] - 2s 73us/sample - loss: 0.6117 - acc: 0.6646 - auroc: 0.7240\n",
      "Epoch 5/250\n",
      "29376/29376 [==============================] - 3s 88us/sample - loss: 0.6118 - acc: 0.6656 - auroc: 0.7256\n",
      "Epoch 6/250\n",
      "29376/29376 [==============================] - 2s 72us/sample - loss: 0.6113 - acc: 0.6665 - auroc: 0.7264\n",
      "Epoch 7/250\n",
      "29376/29376 [==============================] - 2s 75us/sample - loss: 0.6101 - acc: 0.6657 - auroc: 0.7267\n",
      "Epoch 8/250\n",
      "29376/29376 [==============================] - 2s 69us/sample - loss: 0.6098 - acc: 0.6661 - auroc: 0.7261\n",
      "Epoch 9/250\n",
      "29376/29376 [==============================] - 2s 73us/sample - loss: 0.6087 - acc: 0.6686 - auroc: 0.7281\n",
      "Epoch 10/250\n",
      "29376/29376 [==============================] - 2s 74us/sample - loss: 0.6083 - acc: 0.6701 - auroc: 0.7275\n",
      "Epoch 11/250\n",
      "29376/29376 [==============================] - 2s 66us/sample - loss: 0.6075 - acc: 0.6705 - auroc: 0.7302\n",
      "Epoch 12/250\n",
      "29376/29376 [==============================] - 2s 74us/sample - loss: 0.6075 - acc: 0.6695 - auroc: 0.7289\n",
      "Epoch 13/250\n",
      "29376/29376 [==============================] - 3s 86us/sample - loss: 0.6069 - acc: 0.6683 - auroc: 0.7299\n",
      "Epoch 14/250\n",
      "29376/29376 [==============================] - 2s 69us/sample - loss: 0.6062 - acc: 0.6710 - auroc: 0.7303\n",
      "Epoch 15/250\n",
      "29376/29376 [==============================] - 2s 76us/sample - loss: 0.6058 - acc: 0.6697 - auroc: 0.7310\n",
      "Epoch 16/250\n",
      "29376/29376 [==============================] - 2s 76us/sample - loss: 0.6049 - acc: 0.6734 - auroc: 0.7322\n",
      "Epoch 17/250\n",
      "29376/29376 [==============================] - 2s 77us/sample - loss: 0.6044 - acc: 0.6696 - auroc: 0.7335\n",
      "Epoch 18/250\n",
      "29376/29376 [==============================] - 2s 73us/sample - loss: 0.6046 - acc: 0.6709 - auroc: 0.7341\n",
      "Epoch 19/250\n",
      "29376/29376 [==============================] - 3s 85us/sample - loss: 0.6033 - acc: 0.6726 - auroc: 0.7341\n",
      "Epoch 20/250\n",
      "29376/29376 [==============================] - 3s 99us/sample - loss: 0.6023 - acc: 0.6720 - auroc: 0.7341\n",
      "Epoch 21/250\n",
      "29376/29376 [==============================] - 2s 70us/sample - loss: 0.6020 - acc: 0.6760 - auroc: 0.7365\n",
      "Epoch 22/250\n",
      "29376/29376 [==============================] - 2s 77us/sample - loss: 0.6020 - acc: 0.6735 - auroc: 0.7351\n",
      "Epoch 23/250\n",
      "29376/29376 [==============================] - 2s 73us/sample - loss: 0.6008 - acc: 0.6750 - auroc: 0.7378\n",
      "Epoch 24/250\n",
      "29376/29376 [==============================] - 2s 73us/sample - loss: 0.5997 - acc: 0.6768 - auroc: 0.7376\n",
      "Epoch 25/250\n",
      "29376/29376 [==============================] - 2s 74us/sample - loss: 0.5996 - acc: 0.6762 - auroc: 0.7372\n",
      "Epoch 26/250\n",
      "29376/29376 [==============================] - 2s 72us/sample - loss: 0.5996 - acc: 0.6749 - auroc: 0.7375\n",
      "Epoch 27/250\n",
      "29376/29376 [==============================] - 3s 87us/sample - loss: 0.5978 - acc: 0.6774 - auroc: 0.7381\n",
      "Epoch 28/250\n",
      "29376/29376 [==============================] - 2s 68us/sample - loss: 0.5981 - acc: 0.6767 - auroc: 0.7399\n",
      "Epoch 29/250\n",
      "29376/29376 [==============================] - 2s 74us/sample - loss: 0.5972 - acc: 0.6772 - auroc: 0.7404\n",
      "Epoch 30/250\n",
      "29376/29376 [==============================] - 3s 101us/sample - loss: 0.5968 - acc: 0.6764 - auroc: 0.7407\n",
      "Epoch 31/250\n",
      "29376/29376 [==============================] - 3s 97us/sample - loss: 0.5960 - acc: 0.6788 - auroc: 0.7417\n",
      "Epoch 32/250\n",
      "29376/29376 [==============================] - 2s 67us/sample - loss: 0.5958 - acc: 0.6784 - auroc: 0.7417\n",
      "Epoch 33/250\n",
      "29376/29376 [==============================] - 2s 83us/sample - loss: 0.5945 - acc: 0.6805 - auroc: 0.7437\n",
      "Epoch 34/250\n",
      "29376/29376 [==============================] - 2s 71us/sample - loss: 0.5941 - acc: 0.6823 - auroc: 0.7443\n",
      "Epoch 35/250\n",
      "29376/29376 [==============================] - 2s 71us/sample - loss: 0.5932 - acc: 0.6813 - auroc: 0.7457\n",
      "Epoch 36/250\n",
      "29376/29376 [==============================] - 2s 73us/sample - loss: 0.5930 - acc: 0.6814 - auroc: 0.7441\n",
      "Epoch 37/250\n",
      "29376/29376 [==============================] - 2s 65us/sample - loss: 0.5919 - acc: 0.6822 - auroc: 0.7467\n",
      "Epoch 38/250\n",
      "29376/29376 [==============================] - 2s 66us/sample - loss: 0.5909 - acc: 0.6829 - auroc: 0.7488\n",
      "Epoch 39/250\n",
      "29376/29376 [==============================] - 2s 70us/sample - loss: 0.5899 - acc: 0.6851 - auroc: 0.7478\n",
      "Epoch 40/250\n",
      "29376/29376 [==============================] - 2s 68us/sample - loss: 0.5894 - acc: 0.6827 - auroc: 0.7500\n",
      "Epoch 41/250\n",
      "29376/29376 [==============================] - 2s 81us/sample - loss: 0.5890 - acc: 0.6848 - auroc: 0.7507\n",
      "Epoch 42/250\n",
      "29376/29376 [==============================] - 2s 68us/sample - loss: 0.5883 - acc: 0.6854 - auroc: 0.7500\n",
      "Epoch 43/250\n",
      "29376/29376 [==============================] - 2s 65us/sample - loss: 0.5875 - acc: 0.6862 - auroc: 0.7507\n",
      "Epoch 44/250\n",
      "29376/29376 [==============================] - 2s 70us/sample - loss: 0.5868 - acc: 0.6863 - auroc: 0.7529\n",
      "Epoch 45/250\n",
      "29376/29376 [==============================] - 2s 68us/sample - loss: 0.5863 - acc: 0.6865 - auroc: 0.7531\n",
      "Epoch 46/250\n",
      "29376/29376 [==============================] - 3s 92us/sample - loss: 0.5850 - acc: 0.6896 - auroc: 0.7543\n",
      "Epoch 47/250\n",
      "29376/29376 [==============================] - 2s 75us/sample - loss: 0.5849 - acc: 0.6881 - auroc: 0.7554\n",
      "Epoch 48/250\n",
      "29376/29376 [==============================] - 3s 108us/sample - loss: 0.5829 - acc: 0.6888 - auroc: 0.7566\n",
      "Epoch 49/250\n",
      "29376/29376 [==============================] - 2s 73us/sample - loss: 0.5815 - acc: 0.6900 - auroc: 0.7568\n",
      "Epoch 50/250\n",
      "29376/29376 [==============================] - 2s 83us/sample - loss: 0.5820 - acc: 0.6894 - auroc: 0.7577\n",
      "Epoch 51/250\n",
      "29376/29376 [==============================] - 3s 96us/sample - loss: 0.5809 - acc: 0.6912 - auroc: 0.7583\n",
      "Epoch 52/250\n",
      "29376/29376 [==============================] - 2s 70us/sample - loss: 0.5797 - acc: 0.6918 - auroc: 0.7593\n",
      "Epoch 53/250\n",
      "29376/29376 [==============================] - 2s 72us/sample - loss: 0.5793 - acc: 0.6919 - auroc: 0.7597\n",
      "Epoch 54/250\n",
      "29376/29376 [==============================] - 2s 68us/sample - loss: 0.5789 - acc: 0.6935 - auroc: 0.7604\n",
      "Epoch 55/250\n",
      "29376/29376 [==============================] - 3s 87us/sample - loss: 0.5781 - acc: 0.6910 - auroc: 0.7607\n",
      "Epoch 56/250\n",
      "29376/29376 [==============================] - 2s 69us/sample - loss: 0.5770 - acc: 0.6927 - auroc: 0.7626\n",
      "Epoch 57/250\n",
      "29376/29376 [==============================] - 3s 88us/sample - loss: 0.5766 - acc: 0.6941 - auroc: 0.7628\n",
      "Epoch 58/250\n",
      "29376/29376 [==============================] - 2s 73us/sample - loss: 0.5751 - acc: 0.6960 - auroc: 0.7636\n",
      "Epoch 59/250\n",
      "29376/29376 [==============================] - 2s 73us/sample - loss: 0.5747 - acc: 0.6937 - auroc: 0.7641\n",
      "Epoch 60/250\n",
      "29376/29376 [==============================] - 3s 90us/sample - loss: 0.5740 - acc: 0.6964 - auroc: 0.7674\n",
      "Epoch 61/250\n",
      "29376/29376 [==============================] - 2s 76us/sample - loss: 0.5733 - acc: 0.6976 - auroc: 0.7664\n",
      "Epoch 62/250\n"
     ]
    },
    {
     "name": "stdout",
     "output_type": "stream",
     "text": [
      "29376/29376 [==============================] - 3s 90us/sample - loss: 0.5726 - acc: 0.6979 - auroc: 0.7673\n",
      "Epoch 63/250\n",
      "29376/29376 [==============================] - 2s 69us/sample - loss: 0.5722 - acc: 0.6981 - auroc: 0.7678\n",
      "Epoch 64/250\n",
      "29376/29376 [==============================] - 2s 64us/sample - loss: 0.5705 - acc: 0.6969 - auroc: 0.7686\n",
      "Epoch 65/250\n",
      "29376/29376 [==============================] - 2s 70us/sample - loss: 0.5703 - acc: 0.6990 - auroc: 0.76991s - loss\n",
      "Epoch 66/250\n",
      "29376/29376 [==============================] - 2s 66us/sample - loss: 0.5694 - acc: 0.6984 - auroc: 0.7688\n",
      "Epoch 67/250\n",
      "29376/29376 [==============================] - 2s 72us/sample - loss: 0.5686 - acc: 0.7007 - auroc: 0.7709\n",
      "Epoch 68/250\n",
      "29376/29376 [==============================] - 3s 87us/sample - loss: 0.5679 - acc: 0.7015 - auroc: 0.7722\n",
      "Epoch 69/250\n",
      "29376/29376 [==============================] - 3s 87us/sample - loss: 0.5667 - acc: 0.7002 - auroc: 0.7728\n",
      "Epoch 70/250\n",
      "29376/29376 [==============================] - 2s 66us/sample - loss: 0.5669 - acc: 0.7020 - auroc: 0.7715\n",
      "Epoch 71/250\n",
      "29376/29376 [==============================] - 2s 67us/sample - loss: 0.5654 - acc: 0.7036 - auroc: 0.7744\n",
      "Epoch 72/250\n",
      "29376/29376 [==============================] - 2s 67us/sample - loss: 0.5659 - acc: 0.7029 - auroc: 0.7732\n",
      "Epoch 73/250\n",
      "29376/29376 [==============================] - 2s 64us/sample - loss: 0.5642 - acc: 0.7014 - auroc: 0.7750\n",
      "Epoch 74/250\n",
      "29376/29376 [==============================] - 2s 64us/sample - loss: 0.5628 - acc: 0.7037 - auroc: 0.7765\n",
      "Epoch 75/250\n",
      "29376/29376 [==============================] - 2s 69us/sample - loss: 0.5633 - acc: 0.7012 - auroc: 0.7767\n",
      "Epoch 76/250\n",
      "29376/29376 [==============================] - 2s 65us/sample - loss: 0.5619 - acc: 0.7053 - auroc: 0.7773\n",
      "Epoch 77/250\n",
      "29376/29376 [==============================] - 2s 82us/sample - loss: 0.5613 - acc: 0.7057 - auroc: 0.7778\n",
      "Epoch 78/250\n",
      "29376/29376 [==============================] - 2s 63us/sample - loss: 0.5601 - acc: 0.7062 - auroc: 0.7797\n",
      "Epoch 79/250\n",
      "29376/29376 [==============================] - 2s 70us/sample - loss: 0.5597 - acc: 0.7066 - auroc: 0.7800\n",
      "Epoch 80/250\n",
      "29376/29376 [==============================] - 2s 68us/sample - loss: 0.5586 - acc: 0.7068 - auroc: 0.7809\n",
      "Epoch 81/250\n",
      "29376/29376 [==============================] - 2s 66us/sample - loss: 0.5583 - acc: 0.7073 - auroc: 0.7804\n",
      "Epoch 82/250\n",
      "29376/29376 [==============================] - 2s 65us/sample - loss: 0.5569 - acc: 0.7078 - auroc: 0.7814\n",
      "Epoch 83/250\n",
      "29376/29376 [==============================] - 2s 71us/sample - loss: 0.5563 - acc: 0.7099 - auroc: 0.7816\n",
      "Epoch 84/250\n",
      "29376/29376 [==============================] - 2s 72us/sample - loss: 0.5554 - acc: 0.7090 - auroc: 0.7838\n",
      "Epoch 85/250\n",
      "29376/29376 [==============================] - 3s 96us/sample - loss: 0.5548 - acc: 0.7101 - auroc: 0.7849\n",
      "Epoch 86/250\n",
      "29376/29376 [==============================] - 2s 71us/sample - loss: 0.5546 - acc: 0.7070 - auroc: 0.7839\n",
      "Epoch 87/250\n",
      "29376/29376 [==============================] - 2s 68us/sample - loss: 0.5538 - acc: 0.7106 - auroc: 0.7835\n",
      "Epoch 88/250\n",
      "29376/29376 [==============================] - 2s 71us/sample - loss: 0.5524 - acc: 0.7117 - auroc: 0.7861\n",
      "Epoch 89/250\n",
      "29376/29376 [==============================] - 3s 95us/sample - loss: 0.5529 - acc: 0.7099 - auroc: 0.7846\n",
      "Epoch 90/250\n",
      "29376/29376 [==============================] - 2s 73us/sample - loss: 0.5509 - acc: 0.7110 - auroc: 0.7873\n",
      "Epoch 91/250\n",
      "29376/29376 [==============================] - 2s 78us/sample - loss: 0.5518 - acc: 0.7109 - auroc: 0.7851\n",
      "Epoch 92/250\n",
      "29376/29376 [==============================] - 2s 85us/sample - loss: 0.5498 - acc: 0.7137 - auroc: 0.7879\n",
      "Epoch 93/250\n",
      "29376/29376 [==============================] - 2s 74us/sample - loss: 0.5496 - acc: 0.7130 - auroc: 0.7875\n",
      "Epoch 94/250\n",
      "29376/29376 [==============================] - 2s 74us/sample - loss: 0.5495 - acc: 0.7140 - auroc: 0.7897\n",
      "Epoch 95/250\n",
      "29376/29376 [==============================] - 2s 67us/sample - loss: 0.5483 - acc: 0.7138 - auroc: 0.7884\n",
      "Epoch 96/250\n",
      "29376/29376 [==============================] - 2s 66us/sample - loss: 0.5474 - acc: 0.7107 - auroc: 0.7907\n",
      "Epoch 97/250\n",
      "29376/29376 [==============================] - 2s 71us/sample - loss: 0.5465 - acc: 0.7152 - auroc: 0.7906\n",
      "Epoch 98/250\n",
      "29376/29376 [==============================] - 2s 66us/sample - loss: 0.5467 - acc: 0.7150 - auroc: 0.7914\n",
      "Epoch 99/250\n",
      "29376/29376 [==============================] - 2s 83us/sample - loss: 0.5459 - acc: 0.7142 - auroc: 0.7920\n",
      "Epoch 100/250\n",
      "29376/29376 [==============================] - 2s 67us/sample - loss: 0.5460 - acc: 0.7167 - auroc: 0.7919\n",
      "Epoch 101/250\n",
      "29376/29376 [==============================] - 2s 71us/sample - loss: 0.5442 - acc: 0.7165 - auroc: 0.7939\n",
      "Epoch 102/250\n",
      "29376/29376 [==============================] - 2s 71us/sample - loss: 0.5437 - acc: 0.7163 - auroc: 0.7937\n",
      "Epoch 103/250\n",
      "29376/29376 [==============================] - 2s 66us/sample - loss: 0.5434 - acc: 0.7185 - auroc: 0.7951\n",
      "Epoch 104/250\n",
      "29376/29376 [==============================] - 2s 68us/sample - loss: 0.5422 - acc: 0.7188 - auroc: 0.7973\n",
      "Epoch 105/250\n",
      "29376/29376 [==============================] - 2s 69us/sample - loss: 0.5420 - acc: 0.7188 - auroc: 0.7961\n",
      "Epoch 106/250\n",
      "29376/29376 [==============================] - 2s 67us/sample - loss: 0.5409 - acc: 0.7206 - auroc: 0.7965\n",
      "Epoch 107/250\n",
      "29376/29376 [==============================] - 2s 83us/sample - loss: 0.5411 - acc: 0.7202 - auroc: 0.7979\n",
      "Epoch 108/250\n",
      "29376/29376 [==============================] - 2s 67us/sample - loss: 0.5401 - acc: 0.7182 - auroc: 0.7971\n",
      "Epoch 109/250\n",
      "29376/29376 [==============================] - 2s 68us/sample - loss: 0.5399 - acc: 0.7193 - auroc: 0.7969\n",
      "Epoch 110/250\n",
      "29376/29376 [==============================] - 2s 70us/sample - loss: 0.5379 - acc: 0.7217 - auroc: 0.8007\n",
      "Epoch 111/250\n",
      "29376/29376 [==============================] - 2s 67us/sample - loss: 0.5386 - acc: 0.7203 - auroc: 0.7987\n",
      "Epoch 112/250\n",
      "29376/29376 [==============================] - 2s 66us/sample - loss: 0.5371 - acc: 0.7215 - auroc: 0.8002\n",
      "Epoch 113/250\n",
      "29376/29376 [==============================] - 2s 76us/sample - loss: 0.5365 - acc: 0.7211 - auroc: 0.7995\n",
      "Epoch 114/250\n",
      "29376/29376 [==============================] - 3s 92us/sample - loss: 0.5363 - acc: 0.7216 - auroc: 0.8009\n",
      "Epoch 115/250\n",
      "29376/29376 [==============================] - 2s 74us/sample - loss: 0.5349 - acc: 0.7240 - auroc: 0.8011\n",
      "Epoch 116/250\n",
      "29376/29376 [==============================] - 2s 68us/sample - loss: 0.5346 - acc: 0.7229 - auroc: 0.8022\n",
      "Epoch 117/250\n",
      "29376/29376 [==============================] - 2s 70us/sample - loss: 0.5345 - acc: 0.7238 - auroc: 0.8002\n",
      "Epoch 118/250\n",
      "29376/29376 [==============================] - 2s 68us/sample - loss: 0.5335 - acc: 0.7231 - auroc: 0.8036\n",
      "Epoch 119/250\n",
      "29376/29376 [==============================] - 2s 74us/sample - loss: 0.5308 - acc: 0.7246 - auroc: 0.8046\n",
      "Epoch 120/250\n",
      "29376/29376 [==============================] - 2s 70us/sample - loss: 0.5319 - acc: 0.7255 - auroc: 0.80461s - loss\n",
      "Epoch 121/250\n",
      "29376/29376 [==============================] - 2s 68us/sample - loss: 0.5315 - acc: 0.7245 - auroc: 0.8031\n",
      "Epoch 122/250\n",
      "29376/29376 [==============================] - 3s 91us/sample - loss: 0.5312 - acc: 0.7261 - auroc: 0.8035\n",
      "Epoch 123/250\n",
      "29376/29376 [==============================] - 2s 67us/sample - loss: 0.5302 - acc: 0.7248 - auroc: 0.8072\n",
      "Epoch 124/250\n",
      "29376/29376 [==============================] - 2s 69us/sample - loss: 0.5294 - acc: 0.7272 - auroc: 0.8074\n",
      "Epoch 125/250\n",
      "29376/29376 [==============================] - 3s 89us/sample - loss: 0.5298 - acc: 0.7273 - auroc: 0.8061\n",
      "Epoch 126/250\n",
      "29376/29376 [==============================] - 3s 89us/sample - loss: 0.5291 - acc: 0.7255 - auroc: 0.8074\n",
      "Epoch 127/250\n",
      "29376/29376 [==============================] - 3s 91us/sample - loss: 0.5281 - acc: 0.7288 - auroc: 0.8078\n",
      "Epoch 128/250\n",
      "29376/29376 [==============================] - 3s 101us/sample - loss: 0.5280 - acc: 0.7269 - auroc: 0.8072\n",
      "Epoch 129/250\n",
      "29376/29376 [==============================] - 2s 80us/sample - loss: 0.5261 - acc: 0.7292 - auroc: 0.8099\n"
     ]
    },
    {
     "name": "stdout",
     "output_type": "stream",
     "text": [
      "Epoch 130/250\n",
      "29376/29376 [==============================] - 2s 64us/sample - loss: 0.5270 - acc: 0.7286 - auroc: 0.8088\n",
      "Epoch 131/250\n",
      "29376/29376 [==============================] - 2s 66us/sample - loss: 0.5246 - acc: 0.7310 - auroc: 0.8106\n",
      "Epoch 132/250\n",
      "29376/29376 [==============================] - 2s 75us/sample - loss: 0.5248 - acc: 0.7288 - auroc: 0.8104\n",
      "Epoch 133/250\n",
      "29376/29376 [==============================] - 2s 73us/sample - loss: 0.5256 - acc: 0.7302 - auroc: 0.8107\n",
      "Epoch 134/250\n",
      "29376/29376 [==============================] - 2s 70us/sample - loss: 0.5234 - acc: 0.7296 - auroc: 0.8113\n",
      "Epoch 135/250\n",
      "29376/29376 [==============================] - 2s 74us/sample - loss: 0.5232 - acc: 0.7324 - auroc: 0.8100\n",
      "Epoch 136/250\n",
      "29376/29376 [==============================] - 3s 86us/sample - loss: 0.5234 - acc: 0.7289 - auroc: 0.8127\n",
      "Epoch 137/250\n",
      "29376/29376 [==============================] - 2s 65us/sample - loss: 0.5219 - acc: 0.7322 - auroc: 0.8122\n",
      "Epoch 138/250\n",
      "29376/29376 [==============================] - 2s 74us/sample - loss: 0.5219 - acc: 0.7320 - auroc: 0.8136\n",
      "Epoch 139/250\n",
      "29376/29376 [==============================] - 2s 73us/sample - loss: 0.5213 - acc: 0.7325 - auroc: 0.8125\n",
      "Epoch 140/250\n",
      "29376/29376 [==============================] - 2s 66us/sample - loss: 0.5209 - acc: 0.7309 - auroc: 0.8137\n",
      "Epoch 141/250\n",
      "29376/29376 [==============================] - 3s 112us/sample - loss: 0.5188 - acc: 0.7356 - auroc: 0.8158\n",
      "Epoch 142/250\n",
      "29376/29376 [==============================] - 3s 109us/sample - loss: 0.5203 - acc: 0.7321 - auroc: 0.8136\n",
      "Epoch 143/250\n",
      "29376/29376 [==============================] - 3s 99us/sample - loss: 0.5188 - acc: 0.7320 - auroc: 0.8164\n",
      "Epoch 144/250\n",
      "29376/29376 [==============================] - 3s 97us/sample - loss: 0.5199 - acc: 0.7344 - auroc: 0.8144\n",
      "Epoch 145/250\n",
      "29376/29376 [==============================] - 3s 92us/sample - loss: 0.5182 - acc: 0.7347 - auroc: 0.8165\n",
      "Epoch 146/250\n",
      "29376/29376 [==============================] - 3s 91us/sample - loss: 0.5181 - acc: 0.7342 - auroc: 0.8168\n",
      "Epoch 147/250\n",
      "29376/29376 [==============================] - 3s 114us/sample - loss: 0.5170 - acc: 0.7359 - auroc: 0.8164\n",
      "Epoch 148/250\n",
      "29376/29376 [==============================] - 4s 121us/sample - loss: 0.5173 - acc: 0.7332 - auroc: 0.8160\n",
      "Epoch 149/250\n",
      "29376/29376 [==============================] - 2s 78us/sample - loss: 0.5165 - acc: 0.7364 - auroc: 0.8184\n",
      "Epoch 150/250\n",
      "29376/29376 [==============================] - 2s 68us/sample - loss: 0.5156 - acc: 0.7368 - auroc: 0.8190\n",
      "Epoch 151/250\n",
      "29376/29376 [==============================] - 2s 68us/sample - loss: 0.5169 - acc: 0.7356 - auroc: 0.8179\n",
      "Epoch 152/250\n",
      "29376/29376 [==============================] - 2s 66us/sample - loss: 0.5159 - acc: 0.7346 - auroc: 0.8199\n",
      "Epoch 153/250\n",
      "29376/29376 [==============================] - 2s 81us/sample - loss: 0.5156 - acc: 0.7355 - auroc: 0.8177\n",
      "Epoch 154/250\n",
      "29376/29376 [==============================] - 2s 76us/sample - loss: 0.5146 - acc: 0.7350 - auroc: 0.8204\n",
      "Epoch 155/250\n",
      "29376/29376 [==============================] - 2s 85us/sample - loss: 0.5147 - acc: 0.7364 - auroc: 0.8183\n",
      "Epoch 156/250\n",
      "29376/29376 [==============================] - 2s 85us/sample - loss: 0.5142 - acc: 0.7370 - auroc: 0.8198\n",
      "Epoch 157/250\n",
      "29376/29376 [==============================] - 2s 68us/sample - loss: 0.5132 - acc: 0.7368 - auroc: 0.8183\n",
      "Epoch 158/250\n",
      "29376/29376 [==============================] - 2s 70us/sample - loss: 0.5126 - acc: 0.7377 - auroc: 0.8201\n",
      "Epoch 159/250\n",
      "29376/29376 [==============================] - 2s 67us/sample - loss: 0.5117 - acc: 0.7381 - auroc: 0.8216\n",
      "Epoch 160/250\n",
      "29376/29376 [==============================] - 2s 68us/sample - loss: 0.5118 - acc: 0.7386 - auroc: 0.8218\n",
      "Epoch 161/250\n",
      "29376/29376 [==============================] - 2s 71us/sample - loss: 0.5123 - acc: 0.7364 - auroc: 0.8222\n",
      "Epoch 162/250\n",
      "29376/29376 [==============================] - 2s 84us/sample - loss: 0.5115 - acc: 0.7355 - auroc: 0.8211\n",
      "Epoch 163/250\n",
      "29376/29376 [==============================] - 2s 71us/sample - loss: 0.5108 - acc: 0.7385 - auroc: 0.8218\n",
      "Epoch 164/250\n",
      "29376/29376 [==============================] - 2s 67us/sample - loss: 0.5105 - acc: 0.7365 - auroc: 0.8214\n",
      "Epoch 165/250\n",
      "29376/29376 [==============================] - 2s 68us/sample - loss: 0.5092 - acc: 0.7406 - auroc: 0.8244\n",
      "Epoch 166/250\n",
      "29376/29376 [==============================] - 2s 70us/sample - loss: 0.5101 - acc: 0.7375 - auroc: 0.8230\n",
      "Epoch 167/250\n",
      "29376/29376 [==============================] - 2s 84us/sample - loss: 0.5091 - acc: 0.7389 - auroc: 0.8219\n",
      "Epoch 168/250\n",
      "29376/29376 [==============================] - 2s 70us/sample - loss: 0.5089 - acc: 0.7402 - auroc: 0.8227\n",
      "Epoch 169/250\n",
      "29376/29376 [==============================] - 2s 77us/sample - loss: 0.5085 - acc: 0.7432 - auroc: 0.8248\n",
      "Epoch 170/250\n",
      "29376/29376 [==============================] - 2s 82us/sample - loss: 0.5065 - acc: 0.7408 - auroc: 0.8253\n",
      "Epoch 171/250\n",
      "29376/29376 [==============================] - 2s 74us/sample - loss: 0.5071 - acc: 0.7424 - auroc: 0.8246\n",
      "Epoch 172/250\n",
      "29376/29376 [==============================] - 2s 68us/sample - loss: 0.5077 - acc: 0.7407 - auroc: 0.8250\n",
      "Epoch 173/250\n",
      "29376/29376 [==============================] - 2s 72us/sample - loss: 0.5067 - acc: 0.7417 - auroc: 0.8247\n",
      "Epoch 174/250\n",
      "29376/29376 [==============================] - 2s 67us/sample - loss: 0.5066 - acc: 0.7417 - auroc: 0.8258\n",
      "Epoch 175/250\n",
      "29376/29376 [==============================] - 2s 66us/sample - loss: 0.5053 - acc: 0.7419 - auroc: 0.8266\n",
      "Epoch 176/250\n",
      "29376/29376 [==============================] - 2s 73us/sample - loss: 0.5055 - acc: 0.7405 - auroc: 0.8272\n",
      "Epoch 177/250\n",
      "29376/29376 [==============================] - 2s 83us/sample - loss: 0.5051 - acc: 0.7425 - auroc: 0.8267\n",
      "Epoch 178/250\n",
      "29376/29376 [==============================] - 2s 70us/sample - loss: 0.5051 - acc: 0.7431 - auroc: 0.8286\n",
      "Epoch 179/250\n",
      "29376/29376 [==============================] - 2s 71us/sample - loss: 0.5053 - acc: 0.7427 - auroc: 0.8254\n",
      "Epoch 180/250\n",
      "29376/29376 [==============================] - 2s 76us/sample - loss: 0.5034 - acc: 0.7438 - auroc: 0.8267\n",
      "Epoch 181/250\n",
      "29376/29376 [==============================] - 2s 71us/sample - loss: 0.5037 - acc: 0.7420 - auroc: 0.8270\n",
      "Epoch 182/250\n",
      "29376/29376 [==============================] - 2s 71us/sample - loss: 0.5034 - acc: 0.7442 - auroc: 0.8269\n",
      "Epoch 183/250\n",
      "29376/29376 [==============================] - 2s 79us/sample - loss: 0.5031 - acc: 0.7439 - auroc: 0.8293\n",
      "Epoch 184/250\n",
      "29376/29376 [==============================] - 3s 86us/sample - loss: 0.5030 - acc: 0.7446 - auroc: 0.8271\n",
      "Epoch 185/250\n",
      "29376/29376 [==============================] - 3s 102us/sample - loss: 0.5035 - acc: 0.7427 - auroc: 0.8278\n",
      "Epoch 186/250\n",
      "29376/29376 [==============================] - 2s 72us/sample - loss: 0.5010 - acc: 0.7441 - auroc: 0.8300\n",
      "Epoch 187/250\n",
      "29376/29376 [==============================] - 2s 78us/sample - loss: 0.5022 - acc: 0.7435 - auroc: 0.8297\n",
      "Epoch 188/250\n",
      "29376/29376 [==============================] - 2s 73us/sample - loss: 0.5011 - acc: 0.7444 - auroc: 0.8287\n",
      "Epoch 189/250\n",
      "29376/29376 [==============================] - 2s 76us/sample - loss: 0.5011 - acc: 0.7452 - auroc: 0.8309\n",
      "Epoch 190/250\n",
      "29376/29376 [==============================] - 2s 74us/sample - loss: 0.5002 - acc: 0.7462 - auroc: 0.8296\n",
      "Epoch 191/250\n",
      "29376/29376 [==============================] - 3s 95us/sample - loss: 0.5004 - acc: 0.7472 - auroc: 0.8298\n",
      "Epoch 192/250\n",
      "29376/29376 [==============================] - 2s 79us/sample - loss: 0.4999 - acc: 0.7460 - auroc: 0.8305\n",
      "Epoch 193/250\n",
      "29376/29376 [==============================] - 2s 75us/sample - loss: 0.5001 - acc: 0.7474 - auroc: 0.8288\n",
      "Epoch 194/250\n",
      "29376/29376 [==============================] - 3s 116us/sample - loss: 0.4989 - acc: 0.7467 - auroc: 0.8308\n",
      "Epoch 195/250\n",
      "29376/29376 [==============================] - 3s 111us/sample - loss: 0.4989 - acc: 0.7452 - auroc: 0.8308\n",
      "Epoch 196/250\n",
      "29376/29376 [==============================] - 2s 78us/sample - loss: 0.4986 - acc: 0.7477 - auroc: 0.8318\n",
      "Epoch 197/250\n"
     ]
    },
    {
     "name": "stdout",
     "output_type": "stream",
     "text": [
      "29376/29376 [==============================] - 2s 85us/sample - loss: 0.4974 - acc: 0.7468 - auroc: 0.8322\n",
      "Epoch 198/250\n",
      "29376/29376 [==============================] - 2s 69us/sample - loss: 0.4978 - acc: 0.7470 - auroc: 0.8327\n",
      "Epoch 199/250\n",
      "29376/29376 [==============================] - 2s 63us/sample - loss: 0.4964 - acc: 0.7488 - auroc: 0.8334\n",
      "Epoch 200/250\n",
      "29376/29376 [==============================] - 2s 63us/sample - loss: 0.4959 - acc: 0.7488 - auroc: 0.8340\n",
      "Epoch 201/250\n",
      "29376/29376 [==============================] - 2s 68us/sample - loss: 0.4968 - acc: 0.7483 - auroc: 0.8327\n",
      "Epoch 202/250\n",
      "29376/29376 [==============================] - 2s 63us/sample - loss: 0.4968 - acc: 0.7502 - auroc: 0.8341\n",
      "Epoch 203/250\n",
      "29376/29376 [==============================] - 2s 66us/sample - loss: 0.4957 - acc: 0.7488 - auroc: 0.8341\n",
      "Epoch 204/250\n",
      "29376/29376 [==============================] - 2s 66us/sample - loss: 0.4953 - acc: 0.7499 - auroc: 0.8328\n",
      "Epoch 205/250\n",
      "29376/29376 [==============================] - 2s 78us/sample - loss: 0.4956 - acc: 0.7469 - auroc: 0.8333\n",
      "Epoch 206/250\n",
      "29376/29376 [==============================] - 2s 67us/sample - loss: 0.4948 - acc: 0.7525 - auroc: 0.8341\n",
      "Epoch 207/250\n",
      "29376/29376 [==============================] - 2s 67us/sample - loss: 0.4941 - acc: 0.7526 - auroc: 0.8347\n",
      "Epoch 208/250\n",
      "29376/29376 [==============================] - 2s 66us/sample - loss: 0.4948 - acc: 0.7504 - auroc: 0.8347\n",
      "Epoch 209/250\n",
      "29376/29376 [==============================] - 2s 67us/sample - loss: 0.4929 - acc: 0.7524 - auroc: 0.8360\n",
      "Epoch 210/250\n",
      "29376/29376 [==============================] - 2s 64us/sample - loss: 0.4934 - acc: 0.7491 - auroc: 0.8361\n",
      "Epoch 211/250\n",
      "29376/29376 [==============================] - 2s 63us/sample - loss: 0.4941 - acc: 0.7492 - auroc: 0.8348\n",
      "Epoch 212/250\n",
      "29376/29376 [==============================] - 2s 72us/sample - loss: 0.4927 - acc: 0.7516 - auroc: 0.8346\n",
      "Epoch 213/250\n",
      "29376/29376 [==============================] - 2s 79us/sample - loss: 0.4918 - acc: 0.7503 - auroc: 0.8358\n",
      "Epoch 214/250\n",
      "29376/29376 [==============================] - 2s 67us/sample - loss: 0.4923 - acc: 0.7496 - auroc: 0.8372\n",
      "Epoch 215/250\n",
      "29376/29376 [==============================] - 2s 64us/sample - loss: 0.4927 - acc: 0.7521 - auroc: 0.8360\n",
      "Epoch 216/250\n",
      "29376/29376 [==============================] - 2s 64us/sample - loss: 0.4920 - acc: 0.7513 - auroc: 0.8363\n",
      "Epoch 217/250\n",
      "29376/29376 [==============================] - 2s 70us/sample - loss: 0.4916 - acc: 0.7524 - auroc: 0.8370\n",
      "Epoch 218/250\n",
      "29376/29376 [==============================] - 2s 71us/sample - loss: 0.4914 - acc: 0.7507 - auroc: 0.8366\n",
      "Epoch 219/250\n",
      "29376/29376 [==============================] - 2s 69us/sample - loss: 0.4899 - acc: 0.7531 - auroc: 0.8366\n",
      "Epoch 220/250\n",
      "29376/29376 [==============================] - 4s 142us/sample - loss: 0.4894 - acc: 0.7546 - auroc: 0.8385\n",
      "Epoch 221/250\n",
      "29376/29376 [==============================] - 4s 140us/sample - loss: 0.4897 - acc: 0.7546 - auroc: 0.8380\n",
      "Epoch 222/250\n",
      "29376/29376 [==============================] - 4s 135us/sample - loss: 0.4906 - acc: 0.7515 - auroc: 0.8373\n",
      "Epoch 223/250\n",
      "29376/29376 [==============================] - 3s 113us/sample - loss: 0.4893 - acc: 0.7524 - auroc: 0.8371\n",
      "Epoch 224/250\n",
      "29376/29376 [==============================] - 4s 127us/sample - loss: 0.4898 - acc: 0.7521 - auroc: 0.8373\n",
      "Epoch 225/250\n",
      "29376/29376 [==============================] - 3s 104us/sample - loss: 0.4897 - acc: 0.7524 - auroc: 0.8380\n",
      "Epoch 226/250\n",
      "29376/29376 [==============================] - 2s 59us/sample - loss: 0.4900 - acc: 0.7509 - auroc: 0.83981s - loss: 0.4797 -\n",
      "Epoch 227/250\n",
      "29376/29376 [==============================] - 2s 59us/sample - loss: 0.4882 - acc: 0.7532 - auroc: 0.8384\n",
      "Epoch 228/250\n",
      "29376/29376 [==============================] - 2s 60us/sample - loss: 0.4886 - acc: 0.7527 - auroc: 0.8390\n",
      "Epoch 229/250\n",
      "29376/29376 [==============================] - 2s 83us/sample - loss: 0.4878 - acc: 0.7538 - auroc: 0.8400\n",
      "Epoch 230/250\n",
      "29376/29376 [==============================] - 2s 58us/sample - loss: 0.4872 - acc: 0.7554 - auroc: 0.8401\n",
      "Epoch 231/250\n",
      "29376/29376 [==============================] - 2s 68us/sample - loss: 0.4889 - acc: 0.7533 - auroc: 0.8385\n",
      "Epoch 232/250\n",
      "29376/29376 [==============================] - 3s 117us/sample - loss: 0.4876 - acc: 0.7554 - auroc: 0.8412\n",
      "Epoch 233/250\n",
      "29376/29376 [==============================] - 2s 81us/sample - loss: 0.4860 - acc: 0.7559 - auroc: 0.8413\n",
      "Epoch 234/250\n",
      "29376/29376 [==============================] - 2s 74us/sample - loss: 0.4857 - acc: 0.7566 - auroc: 0.8416\n",
      "Epoch 235/250\n",
      "29376/29376 [==============================] - 2s 77us/sample - loss: 0.4865 - acc: 0.7546 - auroc: 0.8402\n",
      "Epoch 236/250\n",
      "29376/29376 [==============================] - 2s 64us/sample - loss: 0.4849 - acc: 0.7576 - auroc: 0.8419\n",
      "Epoch 237/250\n",
      "29376/29376 [==============================] - 2s 68us/sample - loss: 0.4859 - acc: 0.7552 - auroc: 0.8418\n",
      "Epoch 238/250\n",
      "29376/29376 [==============================] - 3s 102us/sample - loss: 0.4837 - acc: 0.7576 - auroc: 0.8415\n",
      "Epoch 239/250\n",
      "29376/29376 [==============================] - 2s 82us/sample - loss: 0.4843 - acc: 0.7553 - auroc: 0.8419\n",
      "Epoch 240/250\n",
      "29376/29376 [==============================] - 2s 85us/sample - loss: 0.4838 - acc: 0.7544 - auroc: 0.84351s - loss: 0.4761\n",
      "Epoch 241/250\n",
      "29376/29376 [==============================] - 2s 71us/sample - loss: 0.4846 - acc: 0.7540 - auroc: 0.8434\n",
      "Epoch 242/250\n",
      "29376/29376 [==============================] - 3s 100us/sample - loss: 0.4839 - acc: 0.7541 - auroc: 0.8421\n",
      "Epoch 243/250\n",
      "29376/29376 [==============================] - 2s 71us/sample - loss: 0.4827 - acc: 0.7579 - auroc: 0.8448\n",
      "Epoch 244/250\n",
      "29376/29376 [==============================] - 2s 71us/sample - loss: 0.4833 - acc: 0.7564 - auroc: 0.8434\n",
      "Epoch 245/250\n",
      "29376/29376 [==============================] - 3s 91us/sample - loss: 0.4837 - acc: 0.7561 - auroc: 0.8420\n",
      "Epoch 246/250\n",
      "29376/29376 [==============================] - 3s 91us/sample - loss: 0.4836 - acc: 0.7571 - auroc: 0.8436\n",
      "Epoch 247/250\n",
      "29376/29376 [==============================] - 2s 76us/sample - loss: 0.4828 - acc: 0.7547 - auroc: 0.8422\n",
      "Epoch 248/250\n",
      "29376/29376 [==============================] - 2s 75us/sample - loss: 0.4823 - acc: 0.7569 - auroc: 0.8443\n",
      "Epoch 249/250\n",
      "29376/29376 [==============================] - 2s 75us/sample - loss: 0.4821 - acc: 0.7573 - auroc: 0.8430\n",
      "Epoch 250/250\n",
      "29376/29376 [==============================] - 3s 105us/sample - loss: 0.4820 - acc: 0.7574 - auroc: 0.8446\n"
     ]
    },
    {
     "data": {
      "text/plain": [
       "<tensorflow.python.keras.callbacks.History at 0x2772c5141f0>"
      ]
     },
     "execution_count": 25,
     "metadata": {},
     "output_type": "execute_result"
    }
   ],
   "source": [
    "model.compile(loss= \"binary_crossentropy\" , optimizer=\"adam\", metrics=['accuracy', auroc])\n",
    "model.fit(X_training_set, y_training_set, epochs=250)\n"
   ]
  },
  {
   "cell_type": "code",
   "execution_count": 26,
   "metadata": {},
   "outputs": [
    {
     "name": "stdout",
     "output_type": "stream",
     "text": [
      "WARNING:tensorflow:From C:\\Users\\kneelagandan\\Anaconda3\\lib\\site-packages\\tensorflow\\python\\keras\\engine\\training_v1.py:2070: Model.state_updates (from tensorflow.python.keras.engine.training) is deprecated and will be removed in a future version.\n",
      "Instructions for updating:\n",
      "This property should not be used in TensorFlow 2.0, as updates are applied automatically.\n"
     ]
    }
   ],
   "source": [
    "pred= model.predict(X_validation_set)\n"
   ]
  },
  {
   "cell_type": "code",
   "execution_count": 27,
   "metadata": {},
   "outputs": [],
   "source": [
    "nn_pred_test = model.predict(test_transformed)\n",
    "nn_pred_test_conv = [y[0] for y in nn_pred_test]\n"
   ]
  },
  {
   "cell_type": "code",
   "execution_count": 28,
   "metadata": {},
   "outputs": [
    {
     "name": "stderr",
     "output_type": "stream",
     "text": [
      "<ipython-input-28-30b7dc9e3cc9>:2: SettingWithCopyWarning: \n",
      "A value is trying to be set on a copy of a slice from a DataFrame.\n",
      "Try using .loc[row_indexer,col_indexer] = value instead\n",
      "\n",
      "See the caveats in the documentation: https://pandas.pydata.org/pandas-docs/stable/user_guide/indexing.html#returning-a-view-versus-a-copy\n",
      "  submission_nn['TARGET'] = nn_pred_test_conv\n"
     ]
    }
   ],
   "source": [
    "submission_nn = application_test[['SK_ID_CURR']]\n",
    "submission_nn['TARGET'] = nn_pred_test_conv"
   ]
  },
  {
   "cell_type": "markdown",
   "metadata": {},
   "source": [
    "## Observation : With NN we can achieve 0.85 ROC-AUC score after 250 echoes also it has good accuracy"
   ]
  },
  {
   "cell_type": "markdown",
   "metadata": {},
   "source": [
    "## 7.Hyper Parameter Tuning "
   ]
  },
  {
   "cell_type": "markdown",
   "metadata": {},
   "source": [
    "## 7.1 Logistic Regression - Grid Search CV"
   ]
  },
  {
   "cell_type": "code",
   "execution_count": 29,
   "metadata": {},
   "outputs": [
    {
     "name": "stderr",
     "output_type": "stream",
     "text": [
      "C:\\Users\\kneelagandan\\Anaconda3\\lib\\site-packages\\sklearn\\linear_model\\_logistic.py:762: ConvergenceWarning: lbfgs failed to converge (status=1):\n",
      "STOP: TOTAL NO. of ITERATIONS REACHED LIMIT.\n",
      "\n",
      "Increase the number of iterations (max_iter) or scale the data as shown in:\n",
      "    https://scikit-learn.org/stable/modules/preprocessing.html\n",
      "Please also refer to the documentation for alternative solver options:\n",
      "    https://scikit-learn.org/stable/modules/linear_model.html#logistic-regression\n",
      "  n_iter_i = _check_optimize_result(\n",
      "C:\\Users\\kneelagandan\\Anaconda3\\lib\\site-packages\\sklearn\\linear_model\\_logistic.py:762: ConvergenceWarning: lbfgs failed to converge (status=1):\n",
      "STOP: TOTAL NO. of ITERATIONS REACHED LIMIT.\n",
      "\n",
      "Increase the number of iterations (max_iter) or scale the data as shown in:\n",
      "    https://scikit-learn.org/stable/modules/preprocessing.html\n",
      "Please also refer to the documentation for alternative solver options:\n",
      "    https://scikit-learn.org/stable/modules/linear_model.html#logistic-regression\n",
      "  n_iter_i = _check_optimize_result(\n",
      "C:\\Users\\kneelagandan\\Anaconda3\\lib\\site-packages\\sklearn\\linear_model\\_logistic.py:762: ConvergenceWarning: lbfgs failed to converge (status=1):\n",
      "STOP: TOTAL NO. of ITERATIONS REACHED LIMIT.\n",
      "\n",
      "Increase the number of iterations (max_iter) or scale the data as shown in:\n",
      "    https://scikit-learn.org/stable/modules/preprocessing.html\n",
      "Please also refer to the documentation for alternative solver options:\n",
      "    https://scikit-learn.org/stable/modules/linear_model.html#logistic-regression\n",
      "  n_iter_i = _check_optimize_result(\n"
     ]
    }
   ],
   "source": [
    "##Tuning C Value\n",
    "logistic_regressor = LogisticRegression()\n",
    "\n",
    "c_space = np.logspace(0.01,0.01,1) \n",
    "param_grid = {'C': c_space} \n",
    "\n",
    "logreg_cv = GridSearchCV(logistic_regressor, param_grid, cv = 5) \n",
    "logreg_cv.fit(X_training_set,y_training_set)\n",
    "\n",
    "\n",
    "log_regression_pred = logreg_cv.predict(X_validation_set)"
   ]
  },
  {
   "cell_type": "code",
   "execution_count": 30,
   "metadata": {},
   "outputs": [
    {
     "name": "stdout",
     "output_type": "stream",
     "text": [
      "The accuracy score :  0.6710208030962748\n",
      "The classification report is as follows:\n",
      "               precision    recall  f1-score   support\n",
      "\n",
      "           0       0.65      0.61      0.63      6578\n",
      "           1       0.69      0.73      0.71      7891\n",
      "\n",
      "    accuracy                           0.67     14469\n",
      "   macro avg       0.67      0.67      0.67     14469\n",
      "weighted avg       0.67      0.67      0.67     14469\n",
      "\n",
      "Taregt Values:\n",
      "1    8323\n",
      "0    6146\n",
      "Name: target, dtype: int64\n",
      "ROC AUC score is:  0.6655573493192576\n"
     ]
    }
   ],
   "source": [
    "metric_calc(log_regression_pred)"
   ]
  },
  {
   "cell_type": "code",
   "execution_count": 31,
   "metadata": {},
   "outputs": [
    {
     "name": "stderr",
     "output_type": "stream",
     "text": [
      "<ipython-input-31-958f2f9d48fc>:4: SettingWithCopyWarning: \n",
      "A value is trying to be set on a copy of a slice from a DataFrame.\n",
      "Try using .loc[row_indexer,col_indexer] = value instead\n",
      "\n",
      "See the caveats in the documentation: https://pandas.pydata.org/pandas-docs/stable/user_guide/indexing.html#returning-a-view-versus-a-copy\n",
      "  submission_log_regression['TARGET'] = log_regression_pred_test[:,1]\n"
     ]
    }
   ],
   "source": [
    "log_regression_pred_test = logreg_cv.predict_proba(test_transformed)\n",
    "log_regression_pred_test[:,1]\n",
    "submission_log_regression = application_test[['SK_ID_CURR']]\n",
    "submission_log_regression['TARGET'] = log_regression_pred_test[:,1]"
   ]
  },
  {
   "cell_type": "code",
   "execution_count": 32,
   "metadata": {},
   "outputs": [
    {
     "name": "stdout",
     "output_type": "stream",
     "text": [
      "Best score is 0.6668709123299972\n"
     ]
    }
   ],
   "source": [
    "print(\"Best score is {}\".format(logreg_cv.best_score_)) \n"
   ]
  },
  {
   "cell_type": "markdown",
   "metadata": {},
   "source": [
    "## Observation : ROC-AUC Score not much improved after tuning the C value - let's try with XG Boost Tuning"
   ]
  },
  {
   "cell_type": "markdown",
   "metadata": {},
   "source": [
    "## 7.2 XG Boost - BayesSearchCV"
   ]
  },
  {
   "cell_type": "code",
   "execution_count": 33,
   "metadata": {},
   "outputs": [],
   "source": [
    "# Classifier\n",
    "bayes_cv_tuner = BayesSearchCV(\n",
    "    estimator = XGBClassifier(\n",
    "        n_jobs = 1,\n",
    "        objective = 'binary:logistic',\n",
    "        eval_metric = 'auc',\n",
    "        silent=1,\n",
    "        tree_method='approx'\n",
    "    ),\n",
    "    search_spaces = {\n",
    "        'learning_rate': (0.01, 1.0, 'log-uniform'),\n",
    "        'min_child_weight': (0, 10),\n",
    "        'max_depth': (0, 50),\n",
    "        'max_delta_step': (0, 20),\n",
    "        'subsample': (0.01, 1.0, 'uniform'),\n",
    "        'colsample_bytree': (0.01, 1.0, 'uniform'),\n",
    "        'colsample_bylevel': (0.01, 1.0, 'uniform'),\n",
    "        'reg_lambda': (1e-9, 1000, 'log-uniform'),\n",
    "        'reg_alpha': (1e-9, 1.0, 'log-uniform'),\n",
    "        'gamma': (1e-9, 0.5, 'log-uniform'),\n",
    "        'min_child_weight': (0, 5),\n",
    "        'n_estimators': (50, 100),\n",
    "        'scale_pos_weight': (1e-6, 500, 'log-uniform')\n",
    "    },    \n",
    "    scoring = 'roc_auc',\n",
    "    cv = StratifiedKFold(\n",
    "        n_splits=4,\n",
    "        shuffle=True,\n",
    "        random_state=42\n",
    "    ),\n",
    "    n_jobs = 3,\n",
    "    n_iter = 8,   \n",
    "    verbose = 0,\n",
    "    refit = True,\n",
    "    random_state = 42\n",
    ")\n",
    "\n",
    "def status_print(optim_result):\n",
    "    \"\"\"Status callback durring bayesian hyperparameter search\"\"\"\n",
    "    \n",
    "    # Get all the models tested so far in DataFrame format\n",
    "    all_models = pd.DataFrame(bayes_cv_tuner.cv_results_)    \n",
    "    \n",
    "    # Get current parameters and the best parameters    \n",
    "    best_params = pd.Series(bayes_cv_tuner.best_params_)\n",
    "    print('Model #{}\\nBest ROC-AUC: {}\\nBest params: {}\\n'.format(\n",
    "        len(all_models),\n",
    "        np.round(bayes_cv_tuner.best_score_, 4),\n",
    "        bayes_cv_tuner.best_params_\n",
    "    ))"
   ]
  },
  {
   "cell_type": "code",
   "execution_count": 34,
   "metadata": {},
   "outputs": [
    {
     "name": "stdout",
     "output_type": "stream",
     "text": [
      "Model #1\n",
      "Best ROC-AUC: 0.5372\n",
      "Best params: OrderedDict([('colsample_bylevel', 0.4160029192647807), ('colsample_bytree', 0.7304484857455519), ('gamma', 0.13031389926541354), ('learning_rate', 0.042815319280763466), ('max_delta_step', 13), ('max_depth', 21), ('min_child_weight', 2), ('n_estimators', 87), ('reg_alpha', 5.497557739289786e-07), ('reg_lambda', 648), ('scale_pos_weight', 275), ('subsample', 0.13556548021189216)])\n",
      "\n",
      "Model #2\n",
      "Best ROC-AUC: 0.7363\n",
      "Best params: OrderedDict([('colsample_bylevel', 0.8390144719977516), ('colsample_bytree', 0.8844821246070537), ('gamma', 4.358684608480795e-07), ('learning_rate', 0.7988179462781242), ('max_delta_step', 17), ('max_depth', 3), ('min_child_weight', 1), ('n_estimators', 68), ('reg_alpha', 0.0005266983003701547), ('reg_lambda', 953), ('scale_pos_weight', 315), ('subsample', 0.9923710598637134)])\n",
      "\n",
      "Model #3\n",
      "Best ROC-AUC: 0.7363\n",
      "Best params: OrderedDict([('colsample_bylevel', 0.8390144719977516), ('colsample_bytree', 0.8844821246070537), ('gamma', 4.358684608480795e-07), ('learning_rate', 0.7988179462781242), ('max_delta_step', 17), ('max_depth', 3), ('min_child_weight', 1), ('n_estimators', 68), ('reg_alpha', 0.0005266983003701547), ('reg_lambda', 953), ('scale_pos_weight', 315), ('subsample', 0.9923710598637134)])\n",
      "\n",
      "Model #4\n",
      "Best ROC-AUC: 0.7371\n",
      "Best params: OrderedDict([('colsample_bylevel', 0.8142720284737898), ('colsample_bytree', 0.1801528457825951), ('gamma', 0.00015936523535755285), ('learning_rate', 0.4032083917998946), ('max_delta_step', 10), ('max_depth', 5), ('min_child_weight', 4), ('n_estimators', 94), ('reg_alpha', 0.1611980387486336), ('reg_lambda', 387), ('scale_pos_weight', 171), ('subsample', 0.8391548832503206)])\n",
      "\n",
      "Model #5\n",
      "Best ROC-AUC: 0.7385\n",
      "Best params: OrderedDict([('colsample_bylevel', 0.8015579071911014), ('colsample_bytree', 0.44364889457651413), ('gamma', 3.811128976537413e-05), ('learning_rate', 0.2700390206185342), ('max_delta_step', 18), ('max_depth', 36), ('min_child_weight', 2), ('n_estimators', 83), ('reg_alpha', 1.5057560255472018e-06), ('reg_lambda', 659), ('scale_pos_weight', 256), ('subsample', 0.8835665823899177)])\n",
      "\n",
      "Model #6\n",
      "Best ROC-AUC: 0.7385\n",
      "Best params: OrderedDict([('colsample_bylevel', 0.8015579071911014), ('colsample_bytree', 0.44364889457651413), ('gamma', 3.811128976537413e-05), ('learning_rate', 0.2700390206185342), ('max_delta_step', 18), ('max_depth', 36), ('min_child_weight', 2), ('n_estimators', 83), ('reg_alpha', 1.5057560255472018e-06), ('reg_lambda', 659), ('scale_pos_weight', 256), ('subsample', 0.8835665823899177)])\n",
      "\n",
      "Model #7\n",
      "Best ROC-AUC: 0.7385\n",
      "Best params: OrderedDict([('colsample_bylevel', 0.8015579071911014), ('colsample_bytree', 0.44364889457651413), ('gamma', 3.811128976537413e-05), ('learning_rate', 0.2700390206185342), ('max_delta_step', 18), ('max_depth', 36), ('min_child_weight', 2), ('n_estimators', 83), ('reg_alpha', 1.5057560255472018e-06), ('reg_lambda', 659), ('scale_pos_weight', 256), ('subsample', 0.8835665823899177)])\n",
      "\n",
      "Model #8\n",
      "Best ROC-AUC: 0.7385\n",
      "Best params: OrderedDict([('colsample_bylevel', 0.8015579071911014), ('colsample_bytree', 0.44364889457651413), ('gamma', 3.811128976537413e-05), ('learning_rate', 0.2700390206185342), ('max_delta_step', 18), ('max_depth', 36), ('min_child_weight', 2), ('n_estimators', 83), ('reg_alpha', 1.5057560255472018e-06), ('reg_lambda', 659), ('scale_pos_weight', 256), ('subsample', 0.8835665823899177)])\n",
      "\n",
      "[15:09:31] WARNING: C:\\Users\\Administrator\\workspace\\xgboost-win64_release_1.2.0\\src\\learner.cc:516: \n",
      "Parameters: { silent } might not be used.\n",
      "\n",
      "  This may not be accurate due to some parameters are only used in language bindings but\n",
      "  passed down to XGBoost core.  Or some parameters are not used but slip through this\n",
      "  verification. Please open an issue if you find above cases.\n",
      "\n",
      "\n"
     ]
    }
   ],
   "source": [
    "result = bayes_cv_tuner.fit(train_transformed, new_application_train['TARGET'].values, callback=status_print)"
   ]
  },
  {
   "cell_type": "code",
   "execution_count": 35,
   "metadata": {},
   "outputs": [
    {
     "name": "stderr",
     "output_type": "stream",
     "text": [
      "C:\\Users\\kneelagandan\\Anaconda3\\lib\\site-packages\\sklearn\\model_selection\\_split.py:293: FutureWarning: Setting a random_state has no effect since shuffle is False. This will raise an error in 0.24. You should leave random_state to its default (None), or set shuffle=True.\n",
      "  warnings.warn(\n"
     ]
    },
    {
     "name": "stdout",
     "output_type": "stream",
     "text": [
      "roc_auc: 0.740 std: 0.005\n"
     ]
    }
   ],
   "source": [
    "# kfold cross validation of the XGBoost model\n",
    "\n",
    "# XGB parameters found by Bayesian optimization above\n",
    "model = XGBClassifier(\n",
    "            objective ='binary:logistic',\n",
    "            colsample_bylevel= 0.8015579071911014, \n",
    "            colsample_bytree= 0.44364889457651413, \n",
    "            gamma= 3.811128976537413e-05, \n",
    "            learning_rate= 0.270039020618534, \n",
    "            max_delta_step= 18, \n",
    "            max_depth=36, \n",
    "            min_child_weight= 2, \n",
    "            n_estimators= 83, \n",
    "            reg_alpha= 1.5057560255472018e-06, \n",
    "            reg_lambda= 659, \n",
    "            scale_pos_weight= 256, \n",
    "            subsample= 0.8835665823899177)\n",
    "\n",
    "kfold = StratifiedKFold(n_splits=8, random_state=42)\n",
    "results = cross_val_score(model, train_transformed, new_application_train['TARGET'].values, cv=kfold, scoring='roc_auc')\n",
    "print(\"roc_auc:\", \"%.3f\" % results.mean(), \"std:\", \"%.3f\" % results.std()) "
   ]
  },
  {
   "cell_type": "markdown",
   "metadata": {},
   "source": [
    "## Observation : After Hyper Tuning XGB ROC-AUC Score improved from 0.666 to 0.740"
   ]
  },
  {
   "cell_type": "code",
   "execution_count": null,
   "metadata": {},
   "outputs": [],
   "source": []
  }
 ],
 "metadata": {
  "kernelspec": {
   "display_name": "Python 3",
   "language": "python",
   "name": "python3"
  },
  "language_info": {
   "codemirror_mode": {
    "name": "ipython",
    "version": 3
   },
   "file_extension": ".py",
   "mimetype": "text/x-python",
   "name": "python",
   "nbconvert_exporter": "python",
   "pygments_lexer": "ipython3",
   "version": "3.8.3"
  }
 },
 "nbformat": 4,
 "nbformat_minor": 2
}
