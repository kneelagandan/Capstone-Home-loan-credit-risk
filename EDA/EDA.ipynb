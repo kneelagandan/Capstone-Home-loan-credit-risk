{
 "cells": [
  {
   "cell_type": "code",
   "execution_count": 1,
   "metadata": {},
   "outputs": [],
   "source": [
    "%matplotlib inline\n",
    "import pandas as pd\n",
    "import matplotlib.pyplot as plt\n",
    "import numpy as np\n",
    "import seaborn as sns\n",
    "sns.set()"
   ]
  },
  {
   "cell_type": "code",
   "execution_count": 2,
   "metadata": {},
   "outputs": [],
   "source": [
    "application_train = pd.read_csv('new_application_train_merged.csv', index_col=None, engine='python')"
   ]
  },
  {
   "cell_type": "code",
   "execution_count": 3,
   "metadata": {},
   "outputs": [],
   "source": [
    "application_test = pd.read_csv('new_application_test_merged.csv', index_col=None, engine='python')"
   ]
  },
  {
   "cell_type": "code",
   "execution_count": 4,
   "metadata": {},
   "outputs": [],
   "source": [
    "X = application_train.drop(['SK_ID_CURR', 'TARGET'], axis=1)\n",
    "y = application_train.TARGET\n"
   ]
  },
  {
   "cell_type": "markdown",
   "metadata": {},
   "source": [
    "## Resample Technique - Down sampling "
   ]
  },
  {
   "cell_type": "code",
   "execution_count": 5,
   "metadata": {},
   "outputs": [
    {
     "data": {
      "text/plain": [
       "1    23845\n",
       "0    20000\n",
       "Name: TARGET, dtype: int64"
      ]
     },
     "execution_count": 5,
     "metadata": {},
     "output_type": "execute_result"
    }
   ],
   "source": [
    "from sklearn.utils import resample\n",
    "\n",
    "# Separate majority and minority classes\n",
    "df_majority = application_train[application_train.TARGET==0]\n",
    "df_minority = application_train[application_train.TARGET==1]\n",
    " \n",
    "# Downsample majority class\n",
    "df_majority_downsampled = resample(df_majority, \n",
    "                                 replace=False,    # sample without replacement\n",
    "                                 n_samples=20000,     # to match minority class\n",
    "                                 random_state=42) # reproducible results\n",
    " \n",
    "# Combine minority class with downsampled majority class\n",
    "df_downsampled = pd.concat([df_majority_downsampled, df_minority])\n",
    " \n",
    "# Display new class counts\n",
    "df_downsampled.TARGET.value_counts()"
   ]
  },
  {
   "cell_type": "markdown",
   "metadata": {},
   "source": [
    "## Feature Selection by Mutual Info Classifier"
   ]
  },
  {
   "cell_type": "code",
   "execution_count": 6,
   "metadata": {},
   "outputs": [
    {
     "data": {
      "image/png": "[encoded data removed]",
      "text/plain": [
       "<Figure size 432x288 with 1 Axes>"
      ]
     },
     "metadata": {},
     "output_type": "display_data"
    }
   ],
   "source": [
    "#Feature Selection - Top 20 Features \n",
    "from sklearn.model_selection import train_test_split\n",
    "from sklearn.feature_selection import mutual_info_classif,SelectKBest\n",
    "from matplotlib import pyplot\n",
    "\n",
    "def select_features(X_train, y_train, X_test):\n",
    "\t# configure to select all features\n",
    "\tfs = SelectKBest(score_func=mutual_info_classif, k=20)\n",
    "\t# learn relationship from training data\n",
    "\tfs.fit(X_train, y_train)\n",
    "\t# transform train input data\n",
    "\tX_train_fs = fs.transform(X_train)\n",
    "\t# transform test input data\n",
    "\tX_test_fs = fs.transform(X_test)\n",
    "\treturn X_train_fs, X_test_fs, fs\n",
    "\n",
    "X_train, X_test, y_train, y_test = train_test_split(X, y, test_size=0.33, random_state=1)\n",
    "X_train_fs, X_test_fs, fs = select_features(X_train, y_train, X_test)\n",
    "\n",
    "# plot the scores\n",
    "pyplot.bar([i for i in range(len(fs.scores_))], fs.scores_)\n",
    "pyplot.show()"
   ]
  },
  {
   "cell_type": "code",
   "execution_count": 7,
   "metadata": {},
   "outputs": [
    {
     "name": "stdout",
     "output_type": "stream",
     "text": [
      "FLAG_OWN_REALTY\n",
      "AMT_CREDIT_x\n",
      "AMT_ANNUITY_x_1\n",
      "AMT_GOODS_PRICE_x\n",
      "NAME_TYPE_SUITE\n",
      "NAME_INCOME_TYPE\n",
      "NAME_EDUCATION_TYPE\n",
      "NAME_FAMILY_STATUS\n",
      "NAME_HOUSING_TYPE\n",
      "FLAG_MOBIL\n",
      "FLAG_EMP_PHONE\n",
      "FLAG_CONT_MOBILE\n",
      "OCCUPATION_TYPE\n",
      "CNT_FAM_MEMBERS\n",
      "REGION_RATING_CLIENT\n",
      "REGION_RATING_CLIENT_W_CITY\n",
      "EXT_SOURCE_1\n",
      "EXT_SOURCE_2\n",
      "EXT_SOURCE_3\n",
      "FLAG_DOCUMENT_3\n"
     ]
    }
   ],
   "source": [
    "#Top 20 Features \n",
    "mask = fs.get_support()\n",
    "new_features = X.columns[mask]\n",
    "for col in new_features:\n",
    "    print(col)"
   ]
  },
  {
   "cell_type": "markdown",
   "metadata": {},
   "source": [
    "## EDA"
   ]
  },
  {
   "cell_type": "markdown",
   "metadata": {},
   "source": [
    "## 1.Top features are statistically signifcant or not for Prediction"
   ]
  },
  {
   "cell_type": "code",
   "execution_count": 8,
   "metadata": {},
   "outputs": [],
   "source": [
    "# Import  modules\n",
    "import statsmodels.api as sm\n",
    "from statsmodels.formula.api import ols\n",
    "import statsmodels.api as sm"
   ]
  },
  {
   "cell_type": "code",
   "execution_count": 9,
   "metadata": {},
   "outputs": [
    {
     "name": "stdout",
     "output_type": "stream",
     "text": [
      "                            OLS Regression Results                            \n",
      "==============================================================================\n",
      "Dep. Variable:                 TARGET   R-squared:                       0.003\n",
      "Model:                            OLS   Adj. R-squared:                  0.003\n",
      "Method:                 Least Squares   F-statistic:                     945.3\n",
      "Date:                Thu, 22 Oct 2020   Prob (F-statistic):          3.02e-207\n",
      "Time:                        15:19:04   Log-Likelihood:                -35977.\n",
      "No. Observations:              291057   AIC:                         7.196e+04\n",
      "Df Residuals:                  291055   BIC:                         7.198e+04\n",
      "Df Model:                           1                                         \n",
      "Covariance Type:            nonrobust                                         \n",
      "===============================================================================\n",
      "                  coef    std err          t      P>|t|      [0.025      0.975]\n",
      "-------------------------------------------------------------------------------\n",
      "Intercept       0.0708      0.001    113.502      0.000       0.070       0.072\n",
      "CODE_GENDER     0.0330      0.001     30.746      0.000       0.031       0.035\n",
      "==============================================================================\n",
      "Omnibus:                   173929.323   Durbin-Watson:                   2.000\n",
      "Prob(Omnibus):                  0.000   Jarque-Bera (JB):          1084056.111\n",
      "Skew:                           3.034   Prob(JB):                         0.00\n",
      "Kurtosis:                      10.250   Cond. No.                         2.41\n",
      "==============================================================================\n",
      "\n",
      "Warnings:\n",
      "[1] Standard Errors assume that the covariance matrix of the errors is correctly specified.\n"
     ]
    }
   ],
   "source": [
    "m = ols('TARGET ~ CODE_GENDER',application_train).fit()\n",
    "print(m.summary())\n"
   ]
  },
  {
   "cell_type": "code",
   "execution_count": 10,
   "metadata": {},
   "outputs": [
    {
     "name": "stdout",
     "output_type": "stream",
     "text": [
      "                                 OLS Regression Results                                \n",
      "=======================================================================================\n",
      "Dep. Variable:                 TARGET   R-squared (uncentered):                   0.069\n",
      "Model:                            OLS   Adj. R-squared (uncentered):              0.069\n",
      "Method:                 Least Squares   F-statistic:                              7150.\n",
      "Date:                Thu, 22 Oct 2020   Prob (F-statistic):                        0.00\n",
      "Time:                        15:19:05   Log-Likelihood:                         -38539.\n",
      "No. Observations:              291057   AIC:                                  7.708e+04\n",
      "Df Residuals:                  291054   BIC:                                  7.712e+04\n",
      "Df Model:                           3                                                  \n",
      "Covariance Type:            nonrobust                                                  \n",
      "===================================================================================\n",
      "                      coef    std err          t      P>|t|      [0.025      0.975]\n",
      "-----------------------------------------------------------------------------------\n",
      "FLAG_OWN_REALTY     0.0381      0.001     41.765      0.000       0.036       0.040\n",
      "AMT_CREDIT_x    -3.054e-08   2.04e-09    -14.985      0.000   -3.45e-08   -2.65e-08\n",
      "AMT_ANNUITY_x_1  2.229e-06   5.11e-08     43.589      0.000    2.13e-06    2.33e-06\n",
      "==============================================================================\n",
      "Omnibus:                   171824.280   Durbin-Watson:                   1.997\n",
      "Prob(Omnibus):                  0.000   Jarque-Bera (JB):          1050853.481\n",
      "Skew:                           2.995   Prob(JB):                         0.00\n",
      "Kurtosis:                      10.125   Cond. No.                     1.26e+06\n",
      "==============================================================================\n",
      "\n",
      "Warnings:\n",
      "[1] Standard Errors assume that the covariance matrix of the errors is correctly specified.\n",
      "[2] The condition number is large, 1.26e+06. This might indicate that there are\n",
      "strong multicollinearity or other numerical problems.\n"
     ]
    }
   ],
   "source": [
    "m = sm.OLS(application_train.TARGET, application_train[['FLAG_OWN_REALTY', 'AMT_CREDIT_x', 'AMT_ANNUITY_x_1']]).fit()\n",
    "print(m.summary())"
   ]
  },
  {
   "cell_type": "code",
   "execution_count": 11,
   "metadata": {},
   "outputs": [
    {
     "name": "stdout",
     "output_type": "stream",
     "text": [
      "                            OLS Regression Results                            \n",
      "==============================================================================\n",
      "Dep. Variable:                 TARGET   R-squared:                       0.002\n",
      "Model:                            OLS   Adj. R-squared:                  0.002\n",
      "Method:                 Least Squares   F-statistic:                     611.0\n",
      "Date:                Thu, 22 Oct 2020   Prob (F-statistic):          9.47e-135\n",
      "Time:                        15:19:05   Log-Likelihood:                -36143.\n",
      "No. Observations:              291057   AIC:                         7.229e+04\n",
      "Df Residuals:                  291055   BIC:                         7.231e+04\n",
      "Df Model:                           1                                         \n",
      "Covariance Type:            nonrobust                                         \n",
      "====================================================================================\n",
      "                       coef    std err          t      P>|t|      [0.025      0.975]\n",
      "------------------------------------------------------------------------------------\n",
      "Intercept            0.0635      0.001     70.442      0.000       0.062       0.065\n",
      "NAME_INCOME_TYPE     0.0050      0.000     24.718      0.000       0.005       0.005\n",
      "==============================================================================\n",
      "Omnibus:                   174197.029   Durbin-Watson:                   2.001\n",
      "Prob(Omnibus):                  0.000   Jarque-Bera (JB):          1088170.548\n",
      "Skew:                           3.039   Prob(JB):                         0.00\n",
      "Kurtosis:                      10.265   Cond. No.                         8.25\n",
      "==============================================================================\n",
      "\n",
      "Warnings:\n",
      "[1] Standard Errors assume that the covariance matrix of the errors is correctly specified.\n"
     ]
    }
   ],
   "source": [
    "m = ols('TARGET ~ NAME_INCOME_TYPE',application_train).fit()\n",
    "print(m.summary())\n"
   ]
  },
  {
   "cell_type": "markdown",
   "metadata": {},
   "source": [
    "##As it has high F statistics & P value almost 0 , so we can say above features are statitically signifcant for prediction"
   ]
  },
  {
   "cell_type": "markdown",
   "metadata": {},
   "source": [
    "## 2 Hypothesis Test -OCCUPATION_TYPE\n",
    "\n",
    "Null Hypo : OCCUPATION_TYPE doesn't have signifcat importance for repaying loan \n",
    "\n",
    "\n",
    "Alt Hypo : OCCUPATION_TYPE has significant impact for Repaying loan"
   ]
  },
  {
   "cell_type": "code",
   "execution_count": 12,
   "metadata": {},
   "outputs": [
    {
     "data": {
      "text/plain": [
       "(9.994138148092723, 1.631066018444426e-23)"
      ]
     },
     "execution_count": 12,
     "metadata": {},
     "output_type": "execute_result"
    }
   ],
   "source": [
    "from scipy.stats import t,ttest_ind_from_stats\n",
    "\n",
    "grouped = application_train.groupby('TARGET')\n",
    "# n0 no \n",
    "# n1 yes  \n",
    "n0 = grouped.count().loc[0][0]\n",
    "n1 = grouped.count().loc[1][0]\n",
    "# Calculate mean\n",
    "x0 = grouped.mean().loc[0,'OCCUPATION_TYPE']\n",
    "x1 = grouped.mean().loc[1,'OCCUPATION_TYPE']\n",
    "# Calculate STD\n",
    "s0 = grouped.std().loc[0,'OCCUPATION_TYPE']\n",
    "s1 = grouped.std().loc[1,'OCCUPATION_TYPE']\n",
    "t_critical_stats, p_value_stats = ttest_ind_from_stats(x0, s0, n0, x1, s1, n1)\n",
    "t_critical_stats,p_value_stats"
   ]
  },
  {
   "cell_type": "markdown",
   "metadata": {},
   "source": [
    "As we got 9.9 as T value and p value almost 0 which is <=0.05 , so we can reject Null Hypothesis . That mean amount occupation type  has signifcat impact on repaying loan"
   ]
  },
  {
   "cell_type": "markdown",
   "metadata": {},
   "source": [
    "## 3.Hypothesis Test for whether the NAME_INCOME_TYPE has any impact on Repayment of loan by shifting the averages\n",
    "\n",
    "Null Hypo : There is no impact for repaying loan based on no of Income Type \n",
    "Alt Hypo : There is significant impact on repaying loan based on Income Type"
   ]
  },
  {
   "cell_type": "code",
   "execution_count": 13,
   "metadata": {},
   "outputs": [],
   "source": [
    "def draw_bs_reps(data, func, size=1):\n",
    "    \"\"\"Draw bootstrap replicates. \n",
    "    Func refers to the type of statistic we want (np.mean / np.median etc.)\"\"\"\n",
    "    \n",
    "    # Initialize array of replicates: bs_replicates\n",
    "    bs_replicates = np.empty(size)\n",
    "\n",
    "    # Generate replicates\n",
    "    for i in range(size):\n",
    "        bs_sample = np.random.choice(data, len(data))\n",
    "        bs_replicates[i] = func(bs_sample)  # store the statistic from each bs_sample into the new array\n",
    "\n",
    "    return bs_replicates"
   ]
  },
  {
   "cell_type": "code",
   "execution_count": 14,
   "metadata": {},
   "outputs": [],
   "source": [
    "insured = np.array(application_train[application_train['TARGET']==1].NAME_INCOME_TYPE)\n",
    "non_insured = np.array(application_train[application_train['TARGET']==0].NAME_INCOME_TYPE)"
   ]
  },
  {
   "cell_type": "code",
   "execution_count": 15,
   "metadata": {},
   "outputs": [
    {
     "data": {
      "text/plain": [
       "0.0"
      ]
     },
     "execution_count": 15,
     "metadata": {},
     "output_type": "execute_result"
    }
   ],
   "source": [
    "combined_mean = np.mean(np.concatenate((insured, non_insured)))\n",
    "insured_shifted = insured - np.mean(insured) + combined_mean\n",
    "non_insured_shifted = non_insured - np.mean(non_insured) + combined_mean\n",
    "bs_replicates_insured = draw_bs_reps(insured_shifted, np.mean, size=1000)\n",
    "bs_replicates_non_insured = draw_bs_reps(non_insured_shifted, np.mean, size=1000)\n",
    "bs_differences = bs_replicates_insured - bs_replicates_non_insured\n",
    "obs_diff = np.mean(insured) - np.mean(non_insured)\n",
    "obs_diff\n",
    "p = np.sum(bs_differences >= obs_diff)/ len(bs_differences)\n",
    "p"
   ]
  },
  {
   "cell_type": "markdown",
   "metadata": {},
   "source": [
    "As p =0 we can reject null hypo , there should be Highly significat impact on repaying loan based on Income Type"
   ]
  },
  {
   "cell_type": "markdown",
   "metadata": {},
   "source": [
    "### Saving updated feature rich columned files  for  ML Indepth Analysis"
   ]
  },
  {
   "cell_type": "code",
   "execution_count": 16,
   "metadata": {},
   "outputs": [
    {
     "data": {
      "text/plain": [
       "1    23845\n",
       "0    20000\n",
       "Name: TARGET, dtype: int64"
      ]
     },
     "execution_count": 16,
     "metadata": {},
     "output_type": "execute_result"
    }
   ],
   "source": [
    "#undersampling as our current ratio of 1 to 0 is only .9. \n",
    "from sklearn.utils import resample\n",
    "\n",
    "# Separate majority and minority classes\n",
    "df_majority = application_train[application_train.TARGET==0]\n",
    "df_minority = application_train[application_train.TARGET==1]\n",
    " \n",
    "# Downsample majority class\n",
    "df_majority_downsampled = resample(df_majority, \n",
    "                                 replace=False,    # sample without replacement\n",
    "                                 n_samples=20000,     # to match minority class\n",
    "                                 random_state=42) # reproducible results\n",
    " \n",
    "# Combine minority class with downsampled majority class\n",
    "df_downsampled = pd.concat([df_majority_downsampled, df_minority])\n",
    " \n",
    "# Display new class counts\n",
    "df_downsampled.TARGET.value_counts()"
   ]
  },
  {
   "cell_type": "code",
   "execution_count": 17,
   "metadata": {},
   "outputs": [],
   "source": [
    "application_train_resampled=df_downsampled"
   ]
  },
  {
   "cell_type": "code",
   "execution_count": 18,
   "metadata": {},
   "outputs": [
    {
     "data": {
      "text/html": [
       "<div>\n",
       "<style scoped>\n",
       "    .dataframe tbody tr th:only-of-type {\n",
       "        vertical-align: middle;\n",
       "    }\n",
       "\n",
       "    .dataframe tbody tr th {\n",
       "        vertical-align: top;\n",
       "    }\n",
       "\n",
       "    .dataframe thead th {\n",
       "        text-align: right;\n",
       "    }\n",
       "</style>\n",
       "<table border=\"1\" class=\"dataframe\">\n",
       "  <thead>\n",
       "    <tr style=\"text-align: right;\">\n",
       "      <th></th>\n",
       "      <th>SK_ID_CURR</th>\n",
       "      <th>TARGET</th>\n",
       "      <th>NAME_CONTRACT_TYPE_x</th>\n",
       "      <th>CODE_GENDER</th>\n",
       "      <th>FLAG_OWN_CAR</th>\n",
       "      <th>FLAG_OWN_REALTY</th>\n",
       "      <th>CNT_CHILDREN</th>\n",
       "      <th>AMT_INCOME_TOTAL</th>\n",
       "      <th>AMT_CREDIT_x</th>\n",
       "      <th>AMT_ANNUITY_x_1</th>\n",
       "      <th>...</th>\n",
       "      <th>AMT_CREDIT_SUM</th>\n",
       "      <th>AMT_CREDIT_SUM_DEBT</th>\n",
       "      <th>AMT_CREDIT_SUM_LIMIT</th>\n",
       "      <th>AMT_CREDIT_SUM_OVERDUE</th>\n",
       "      <th>CREDIT_TYPE</th>\n",
       "      <th>DAYS_CREDIT_UPDATE</th>\n",
       "      <th>AMT_ANNUITY</th>\n",
       "      <th>STATUS</th>\n",
       "      <th>Month_Balance_Count</th>\n",
       "      <th>Loan_Income_Ratio</th>\n",
       "    </tr>\n",
       "  </thead>\n",
       "  <tbody>\n",
       "    <tr>\n",
       "      <th>165106</th>\n",
       "      <td>302278</td>\n",
       "      <td>0</td>\n",
       "      <td>0.0</td>\n",
       "      <td>0.0</td>\n",
       "      <td>0.0</td>\n",
       "      <td>1.0</td>\n",
       "      <td>0</td>\n",
       "      <td>180000.0</td>\n",
       "      <td>542133.0</td>\n",
       "      <td>19602.0</td>\n",
       "      <td>...</td>\n",
       "      <td>5270704.605</td>\n",
       "      <td>332628.66</td>\n",
       "      <td>8257.590</td>\n",
       "      <td>0.0</td>\n",
       "      <td>60.0</td>\n",
       "      <td>0.0</td>\n",
       "      <td>0.0</td>\n",
       "      <td>0.0</td>\n",
       "      <td>0.0</td>\n",
       "      <td>3.011850</td>\n",
       "    </tr>\n",
       "    <tr>\n",
       "      <th>3208</th>\n",
       "      <td>103923</td>\n",
       "      <td>0</td>\n",
       "      <td>0.0</td>\n",
       "      <td>0.0</td>\n",
       "      <td>1.0</td>\n",
       "      <td>1.0</td>\n",
       "      <td>1</td>\n",
       "      <td>135000.0</td>\n",
       "      <td>760225.5</td>\n",
       "      <td>30150.0</td>\n",
       "      <td>...</td>\n",
       "      <td>4648337.370</td>\n",
       "      <td>1701710.55</td>\n",
       "      <td>135000.000</td>\n",
       "      <td>0.0</td>\n",
       "      <td>39.0</td>\n",
       "      <td>0.0</td>\n",
       "      <td>0.0</td>\n",
       "      <td>0.0</td>\n",
       "      <td>0.0</td>\n",
       "      <td>5.631300</td>\n",
       "    </tr>\n",
       "    <tr>\n",
       "      <th>61138</th>\n",
       "      <td>174852</td>\n",
       "      <td>0</td>\n",
       "      <td>0.0</td>\n",
       "      <td>0.0</td>\n",
       "      <td>0.0</td>\n",
       "      <td>1.0</td>\n",
       "      <td>1</td>\n",
       "      <td>175500.0</td>\n",
       "      <td>1661418.0</td>\n",
       "      <td>45819.0</td>\n",
       "      <td>...</td>\n",
       "      <td>4162234.500</td>\n",
       "      <td>73084.50</td>\n",
       "      <td>0.000</td>\n",
       "      <td>0.0</td>\n",
       "      <td>26.0</td>\n",
       "      <td>0.0</td>\n",
       "      <td>0.0</td>\n",
       "      <td>0.0</td>\n",
       "      <td>0.0</td>\n",
       "      <td>9.466769</td>\n",
       "    </tr>\n",
       "    <tr>\n",
       "      <th>75518</th>\n",
       "      <td>192503</td>\n",
       "      <td>0</td>\n",
       "      <td>0.0</td>\n",
       "      <td>0.0</td>\n",
       "      <td>1.0</td>\n",
       "      <td>1.0</td>\n",
       "      <td>0</td>\n",
       "      <td>261000.0</td>\n",
       "      <td>781920.0</td>\n",
       "      <td>47965.5</td>\n",
       "      <td>...</td>\n",
       "      <td>2881258.650</td>\n",
       "      <td>461529.00</td>\n",
       "      <td>30375.495</td>\n",
       "      <td>0.0</td>\n",
       "      <td>31.0</td>\n",
       "      <td>0.0</td>\n",
       "      <td>0.0</td>\n",
       "      <td>0.0</td>\n",
       "      <td>0.0</td>\n",
       "      <td>2.995862</td>\n",
       "    </tr>\n",
       "    <tr>\n",
       "      <th>162034</th>\n",
       "      <td>298525</td>\n",
       "      <td>0</td>\n",
       "      <td>0.0</td>\n",
       "      <td>0.0</td>\n",
       "      <td>0.0</td>\n",
       "      <td>1.0</td>\n",
       "      <td>0</td>\n",
       "      <td>37008.0</td>\n",
       "      <td>285723.0</td>\n",
       "      <td>21492.0</td>\n",
       "      <td>...</td>\n",
       "      <td>247410.000</td>\n",
       "      <td>0.00</td>\n",
       "      <td>0.000</td>\n",
       "      <td>0.0</td>\n",
       "      <td>6.0</td>\n",
       "      <td>0.0</td>\n",
       "      <td>0.0</td>\n",
       "      <td>4.0</td>\n",
       "      <td>36.0</td>\n",
       "      <td>7.720574</td>\n",
       "    </tr>\n",
       "  </tbody>\n",
       "</table>\n",
       "<p>5 rows × 151 columns</p>\n",
       "</div>"
      ],
      "text/plain": [
       "        SK_ID_CURR  TARGET  NAME_CONTRACT_TYPE_x  CODE_GENDER  FLAG_OWN_CAR  \\\n",
       "165106      302278       0                   0.0          0.0           0.0   \n",
       "3208        103923       0                   0.0          0.0           1.0   \n",
       "61138       174852       0                   0.0          0.0           0.0   \n",
       "75518       192503       0                   0.0          0.0           1.0   \n",
       "162034      298525       0                   0.0          0.0           0.0   \n",
       "\n",
       "        FLAG_OWN_REALTY  CNT_CHILDREN  AMT_INCOME_TOTAL  AMT_CREDIT_x  \\\n",
       "165106              1.0             0          180000.0      542133.0   \n",
       "3208                1.0             1          135000.0      760225.5   \n",
       "61138               1.0             1          175500.0     1661418.0   \n",
       "75518               1.0             0          261000.0      781920.0   \n",
       "162034              1.0             0           37008.0      285723.0   \n",
       "\n",
       "        AMT_ANNUITY_x_1  ...  AMT_CREDIT_SUM  AMT_CREDIT_SUM_DEBT  \\\n",
       "165106          19602.0  ...     5270704.605            332628.66   \n",
       "3208            30150.0  ...     4648337.370           1701710.55   \n",
       "61138           45819.0  ...     4162234.500             73084.50   \n",
       "75518           47965.5  ...     2881258.650            461529.00   \n",
       "162034          21492.0  ...      247410.000                 0.00   \n",
       "\n",
       "        AMT_CREDIT_SUM_LIMIT  AMT_CREDIT_SUM_OVERDUE  CREDIT_TYPE  \\\n",
       "165106              8257.590                     0.0         60.0   \n",
       "3208              135000.000                     0.0         39.0   \n",
       "61138                  0.000                     0.0         26.0   \n",
       "75518              30375.495                     0.0         31.0   \n",
       "162034                 0.000                     0.0          6.0   \n",
       "\n",
       "        DAYS_CREDIT_UPDATE  AMT_ANNUITY  STATUS  Month_Balance_Count  \\\n",
       "165106                 0.0          0.0     0.0                  0.0   \n",
       "3208                   0.0          0.0     0.0                  0.0   \n",
       "61138                  0.0          0.0     0.0                  0.0   \n",
       "75518                  0.0          0.0     0.0                  0.0   \n",
       "162034                 0.0          0.0     4.0                 36.0   \n",
       "\n",
       "        Loan_Income_Ratio  \n",
       "165106           3.011850  \n",
       "3208             5.631300  \n",
       "61138            9.466769  \n",
       "75518            2.995862  \n",
       "162034           7.720574  \n",
       "\n",
       "[5 rows x 151 columns]"
      ]
     },
     "execution_count": 18,
     "metadata": {},
     "output_type": "execute_result"
    }
   ],
   "source": [
    "application_train_resampled.head()"
   ]
  },
  {
   "cell_type": "code",
   "execution_count": 19,
   "metadata": {},
   "outputs": [],
   "source": [
    "new_application_train=application_train_resampled[new_features]\n",
    "new_application_test=application_test[new_features]\n"
   ]
  },
  {
   "cell_type": "code",
   "execution_count": 20,
   "metadata": {},
   "outputs": [
    {
     "name": "stderr",
     "output_type": "stream",
     "text": [
      "<ipython-input-20-37c1d1a52f97>:1: SettingWithCopyWarning: \n",
      "A value is trying to be set on a copy of a slice from a DataFrame.\n",
      "Try using .loc[row_indexer,col_indexer] = value instead\n",
      "\n",
      "See the caveats in the documentation: https://pandas.pydata.org/pandas-docs/stable/user_guide/indexing.html#returning-a-view-versus-a-copy\n",
      "  new_application_train['TARGET']=application_train_resampled['TARGET']\n"
     ]
    }
   ],
   "source": [
    "new_application_train['TARGET']=application_train_resampled['TARGET']\n"
   ]
  },
  {
   "cell_type": "code",
   "execution_count": 21,
   "metadata": {},
   "outputs": [
    {
     "data": {
      "text/plain": [
       "(47800, 20)"
      ]
     },
     "execution_count": 21,
     "metadata": {},
     "output_type": "execute_result"
    }
   ],
   "source": [
    "new_application_test.shape"
   ]
  },
  {
   "cell_type": "markdown",
   "metadata": {},
   "source": [
    "## Downsampled & Top 20 features dataset saved for Modeling "
   ]
  },
  {
   "cell_type": "code",
   "execution_count": 22,
   "metadata": {},
   "outputs": [],
   "source": [
    "new_application_train.to_csv('application_train_for_ML.csv',index=False)\n",
    "new_application_test.to_csv('application_test_for_ML.csv',index=False)"
   ]
  },
  {
   "cell_type": "code",
   "execution_count": null,
   "metadata": {},
   "outputs": [],
   "source": []
  }
 ],
 "metadata": {
  "kernelspec": {
   "display_name": "Python 3",
   "language": "python",
   "name": "python3"
  },
  "language_info": {
   "codemirror_mode": {
    "name": "ipython",
    "version": 3
   },
   "file_extension": ".py",
   "mimetype": "text/x-python",
   "name": "python",
   "nbconvert_exporter": "python",
   "pygments_lexer": "ipython3",
   "version": "3.8.3"
  }
 },
 "nbformat": 4,
 "nbformat_minor": 4
}
